{
 "cells": [
  {
   "cell_type": "code",
   "execution_count": 1,
   "metadata": {},
   "outputs": [],
   "source": [
    "import pandas as pd\n",
    "import numpy as np\n",
    "import matplotlib.pyplot as plt\n",
    "import seaborn as sns\n",
    "from sklearn.preprocessing import StandardScaler,LabelEncoder\n",
    "from sklearn.model_selection import train_test_split\n",
    "import random\n",
    "import warnings\n",
    "warnings.filterwarnings('ignore')\n",
    "from sklearn.ensemble import RandomForestClassifier\n",
    "from sklearn.tree import DecisionTreeClassifier\n",
    "from sklearn.naive_bayes import MultinomialNB"
   ]
  },
  {
   "cell_type": "code",
   "execution_count": 2,
   "metadata": {},
   "outputs": [],
   "source": [
    "import nltk\n",
    "#nltk.download(\"stopwords\")"
   ]
  },
  {
   "cell_type": "code",
   "execution_count": 3,
   "metadata": {},
   "outputs": [],
   "source": [
    "from nltk.corpus import stopwords\n",
    "from nltk.stem import PorterStemmer\n",
    "from sklearn.feature_extraction.text import TfidfVectorizer\n",
    "from sklearn.pipeline import Pipeline\n",
    "from sklearn.metrics import classification_report, confusion_matrix\n",
    "from sklearn.feature_selection import SelectKBest, chi2\n",
    "from sklearn.ensemble import RandomForestClassifier,GradientBoostingClassifier\n",
    "import pickle\n",
    "import re"
   ]
  },
  {
   "cell_type": "code",
   "execution_count": 4,
   "metadata": {},
   "outputs": [
    {
     "data": {
      "text/html": [
       "<div>\n",
       "<style scoped>\n",
       "    .dataframe tbody tr th:only-of-type {\n",
       "        vertical-align: middle;\n",
       "    }\n",
       "\n",
       "    .dataframe tbody tr th {\n",
       "        vertical-align: top;\n",
       "    }\n",
       "\n",
       "    .dataframe thead th {\n",
       "        text-align: right;\n",
       "    }\n",
       "</style>\n",
       "<table border=\"1\" class=\"dataframe\">\n",
       "  <thead>\n",
       "    <tr style=\"text-align: right;\">\n",
       "      <th></th>\n",
       "      <th>joke_id</th>\n",
       "      <th>joke_text</th>\n",
       "    </tr>\n",
       "  </thead>\n",
       "  <tbody>\n",
       "    <tr>\n",
       "      <th>0</th>\n",
       "      <td>1</td>\n",
       "      <td>Q. What's O. J. Simpson's web address? A. Slas...</td>\n",
       "    </tr>\n",
       "    <tr>\n",
       "      <th>1</th>\n",
       "      <td>2</td>\n",
       "      <td>How many feminists does it take to screw in a ...</td>\n",
       "    </tr>\n",
       "    <tr>\n",
       "      <th>2</th>\n",
       "      <td>3</td>\n",
       "      <td>Q. Did you hear about the dyslexic devil worsh...</td>\n",
       "    </tr>\n",
       "    <tr>\n",
       "      <th>3</th>\n",
       "      <td>4</td>\n",
       "      <td>They asked the Japanese visitor if they have e...</td>\n",
       "    </tr>\n",
       "    <tr>\n",
       "      <th>4</th>\n",
       "      <td>5</td>\n",
       "      <td>Q: What did the blind person say when given so...</td>\n",
       "    </tr>\n",
       "  </tbody>\n",
       "</table>\n",
       "</div>"
      ],
      "text/plain": [
       "   joke_id                                          joke_text\n",
       "0        1  Q. What's O. J. Simpson's web address? A. Slas...\n",
       "1        2  How many feminists does it take to screw in a ...\n",
       "2        3  Q. Did you hear about the dyslexic devil worsh...\n",
       "3        4  They asked the Japanese visitor if they have e...\n",
       "4        5  Q: What did the blind person say when given so..."
      ]
     },
     "execution_count": 4,
     "metadata": {},
     "output_type": "execute_result"
    }
   ],
   "source": [
    "df=pd.read_csv('jokes.csv')\n",
    "df.head()"
   ]
  },
  {
   "cell_type": "code",
   "execution_count": 5,
   "metadata": {},
   "outputs": [
    {
     "data": {
      "text/html": [
       "<div>\n",
       "<style scoped>\n",
       "    .dataframe tbody tr th:only-of-type {\n",
       "        vertical-align: middle;\n",
       "    }\n",
       "\n",
       "    .dataframe tbody tr th {\n",
       "        vertical-align: top;\n",
       "    }\n",
       "\n",
       "    .dataframe thead th {\n",
       "        text-align: right;\n",
       "    }\n",
       "</style>\n",
       "<table border=\"1\" class=\"dataframe\">\n",
       "  <thead>\n",
       "    <tr style=\"text-align: right;\">\n",
       "      <th></th>\n",
       "      <th>id</th>\n",
       "      <th>user_id</th>\n",
       "      <th>joke_id</th>\n",
       "      <th>Rating</th>\n",
       "    </tr>\n",
       "  </thead>\n",
       "  <tbody>\n",
       "    <tr>\n",
       "      <th>0</th>\n",
       "      <td>31030_110</td>\n",
       "      <td>31030</td>\n",
       "      <td>110</td>\n",
       "      <td>2.750</td>\n",
       "    </tr>\n",
       "    <tr>\n",
       "      <th>1</th>\n",
       "      <td>16144_109</td>\n",
       "      <td>16144</td>\n",
       "      <td>109</td>\n",
       "      <td>5.094</td>\n",
       "    </tr>\n",
       "    <tr>\n",
       "      <th>2</th>\n",
       "      <td>23098_6</td>\n",
       "      <td>23098</td>\n",
       "      <td>6</td>\n",
       "      <td>-6.438</td>\n",
       "    </tr>\n",
       "    <tr>\n",
       "      <th>3</th>\n",
       "      <td>14273_86</td>\n",
       "      <td>14273</td>\n",
       "      <td>86</td>\n",
       "      <td>4.406</td>\n",
       "    </tr>\n",
       "    <tr>\n",
       "      <th>4</th>\n",
       "      <td>18419_134</td>\n",
       "      <td>18419</td>\n",
       "      <td>134</td>\n",
       "      <td>9.375</td>\n",
       "    </tr>\n",
       "  </tbody>\n",
       "</table>\n",
       "</div>"
      ],
      "text/plain": [
       "          id  user_id  joke_id  Rating\n",
       "0  31030_110    31030      110   2.750\n",
       "1  16144_109    16144      109   5.094\n",
       "2    23098_6    23098        6  -6.438\n",
       "3   14273_86    14273       86   4.406\n",
       "4  18419_134    18419      134   9.375"
      ]
     },
     "execution_count": 5,
     "metadata": {},
     "output_type": "execute_result"
    }
   ],
   "source": [
    "df2=pd.read_csv('train.csv')\n",
    "df2.head()"
   ]
  },
  {
   "cell_type": "code",
   "execution_count": 6,
   "metadata": {},
   "outputs": [
    {
     "data": {
      "text/html": [
       "<div>\n",
       "<style scoped>\n",
       "    .dataframe tbody tr th:only-of-type {\n",
       "        vertical-align: middle;\n",
       "    }\n",
       "\n",
       "    .dataframe tbody tr th {\n",
       "        vertical-align: top;\n",
       "    }\n",
       "\n",
       "    .dataframe thead th {\n",
       "        text-align: right;\n",
       "    }\n",
       "</style>\n",
       "<table border=\"1\" class=\"dataframe\">\n",
       "  <thead>\n",
       "    <tr style=\"text-align: right;\">\n",
       "      <th></th>\n",
       "      <th>joke_id</th>\n",
       "      <th>joke_text</th>\n",
       "      <th>id</th>\n",
       "      <th>user_id</th>\n",
       "      <th>Rating</th>\n",
       "    </tr>\n",
       "  </thead>\n",
       "  <tbody>\n",
       "    <tr>\n",
       "      <th>0</th>\n",
       "      <td>1</td>\n",
       "      <td>Q. What's O. J. Simpson's web address? A. Slas...</td>\n",
       "      <td>41_1</td>\n",
       "      <td>41</td>\n",
       "      <td>3.062</td>\n",
       "    </tr>\n",
       "    <tr>\n",
       "      <th>1</th>\n",
       "      <td>1</td>\n",
       "      <td>Q. What's O. J. Simpson's web address? A. Slas...</td>\n",
       "      <td>282_1</td>\n",
       "      <td>282</td>\n",
       "      <td>1.062</td>\n",
       "    </tr>\n",
       "    <tr>\n",
       "      <th>2</th>\n",
       "      <td>1</td>\n",
       "      <td>Q. What's O. J. Simpson's web address? A. Slas...</td>\n",
       "      <td>117_1</td>\n",
       "      <td>117</td>\n",
       "      <td>-8.469</td>\n",
       "    </tr>\n",
       "    <tr>\n",
       "      <th>3</th>\n",
       "      <td>1</td>\n",
       "      <td>Q. What's O. J. Simpson's web address? A. Slas...</td>\n",
       "      <td>259_1</td>\n",
       "      <td>259</td>\n",
       "      <td>2.688</td>\n",
       "    </tr>\n",
       "    <tr>\n",
       "      <th>4</th>\n",
       "      <td>1</td>\n",
       "      <td>Q. What's O. J. Simpson's web address? A. Slas...</td>\n",
       "      <td>167_1</td>\n",
       "      <td>167</td>\n",
       "      <td>8.125</td>\n",
       "    </tr>\n",
       "  </tbody>\n",
       "</table>\n",
       "</div>"
      ],
      "text/plain": [
       "   joke_id                                          joke_text     id  user_id  \\\n",
       "0        1  Q. What's O. J. Simpson's web address? A. Slas...   41_1       41   \n",
       "1        1  Q. What's O. J. Simpson's web address? A. Slas...  282_1      282   \n",
       "2        1  Q. What's O. J. Simpson's web address? A. Slas...  117_1      117   \n",
       "3        1  Q. What's O. J. Simpson's web address? A. Slas...  259_1      259   \n",
       "4        1  Q. What's O. J. Simpson's web address? A. Slas...  167_1      167   \n",
       "\n",
       "   Rating  \n",
       "0   3.062  \n",
       "1   1.062  \n",
       "2  -8.469  \n",
       "3   2.688  \n",
       "4   8.125  "
      ]
     },
     "execution_count": 6,
     "metadata": {},
     "output_type": "execute_result"
    }
   ],
   "source": [
    "data=pd.merge(df,df2,on='joke_id')\n",
    "data.head()"
   ]
  },
  {
   "cell_type": "code",
   "execution_count": 7,
   "metadata": {},
   "outputs": [
    {
     "name": "stdout",
     "output_type": "stream",
     "text": [
      "(1092059, 4)\n"
     ]
    },
    {
     "data": {
      "text/html": [
       "<div>\n",
       "<style scoped>\n",
       "    .dataframe tbody tr th:only-of-type {\n",
       "        vertical-align: middle;\n",
       "    }\n",
       "\n",
       "    .dataframe tbody tr th {\n",
       "        vertical-align: top;\n",
       "    }\n",
       "\n",
       "    .dataframe thead th {\n",
       "        text-align: right;\n",
       "    }\n",
       "</style>\n",
       "<table border=\"1\" class=\"dataframe\">\n",
       "  <thead>\n",
       "    <tr style=\"text-align: right;\">\n",
       "      <th></th>\n",
       "      <th>joke_id</th>\n",
       "      <th>joke_text</th>\n",
       "      <th>user_id</th>\n",
       "      <th>Rating</th>\n",
       "    </tr>\n",
       "  </thead>\n",
       "  <tbody>\n",
       "    <tr>\n",
       "      <th>0</th>\n",
       "      <td>1</td>\n",
       "      <td>Q. What's O. J. Simpson's web address? A. Slas...</td>\n",
       "      <td>41</td>\n",
       "      <td>3.062</td>\n",
       "    </tr>\n",
       "    <tr>\n",
       "      <th>1</th>\n",
       "      <td>1</td>\n",
       "      <td>Q. What's O. J. Simpson's web address? A. Slas...</td>\n",
       "      <td>282</td>\n",
       "      <td>1.062</td>\n",
       "    </tr>\n",
       "    <tr>\n",
       "      <th>2</th>\n",
       "      <td>1</td>\n",
       "      <td>Q. What's O. J. Simpson's web address? A. Slas...</td>\n",
       "      <td>117</td>\n",
       "      <td>-8.469</td>\n",
       "    </tr>\n",
       "    <tr>\n",
       "      <th>3</th>\n",
       "      <td>1</td>\n",
       "      <td>Q. What's O. J. Simpson's web address? A. Slas...</td>\n",
       "      <td>259</td>\n",
       "      <td>2.688</td>\n",
       "    </tr>\n",
       "    <tr>\n",
       "      <th>4</th>\n",
       "      <td>1</td>\n",
       "      <td>Q. What's O. J. Simpson's web address? A. Slas...</td>\n",
       "      <td>167</td>\n",
       "      <td>8.125</td>\n",
       "    </tr>\n",
       "  </tbody>\n",
       "</table>\n",
       "</div>"
      ],
      "text/plain": [
       "   joke_id                                          joke_text  user_id  Rating\n",
       "0        1  Q. What's O. J. Simpson's web address? A. Slas...       41   3.062\n",
       "1        1  Q. What's O. J. Simpson's web address? A. Slas...      282   1.062\n",
       "2        1  Q. What's O. J. Simpson's web address? A. Slas...      117  -8.469\n",
       "3        1  Q. What's O. J. Simpson's web address? A. Slas...      259   2.688\n",
       "4        1  Q. What's O. J. Simpson's web address? A. Slas...      167   8.125"
      ]
     },
     "execution_count": 7,
     "metadata": {},
     "output_type": "execute_result"
    }
   ],
   "source": [
    "df=data.drop('id',axis=1)\n",
    "print(df.shape)\n",
    "df.head()"
   ]
  },
  {
   "cell_type": "code",
   "execution_count": 8,
   "metadata": {},
   "outputs": [
    {
     "data": {
      "text/html": [
       "<div>\n",
       "<style scoped>\n",
       "    .dataframe tbody tr th:only-of-type {\n",
       "        vertical-align: middle;\n",
       "    }\n",
       "\n",
       "    .dataframe tbody tr th {\n",
       "        vertical-align: top;\n",
       "    }\n",
       "\n",
       "    .dataframe thead th {\n",
       "        text-align: right;\n",
       "    }\n",
       "</style>\n",
       "<table border=\"1\" class=\"dataframe\">\n",
       "  <thead>\n",
       "    <tr style=\"text-align: right;\">\n",
       "      <th></th>\n",
       "      <th>joke_id</th>\n",
       "      <th>joke_text</th>\n",
       "      <th>user_id</th>\n",
       "      <th>Rating</th>\n",
       "    </tr>\n",
       "  </thead>\n",
       "  <tbody>\n",
       "    <tr>\n",
       "      <th>0</th>\n",
       "      <td>1</td>\n",
       "      <td>Q. What's O. J. Simpson's web address? A. Slas...</td>\n",
       "      <td>41</td>\n",
       "      <td>3.062</td>\n",
       "    </tr>\n",
       "    <tr>\n",
       "      <th>1</th>\n",
       "      <td>1</td>\n",
       "      <td>Q. What's O. J. Simpson's web address? A. Slas...</td>\n",
       "      <td>282</td>\n",
       "      <td>1.062</td>\n",
       "    </tr>\n",
       "    <tr>\n",
       "      <th>2</th>\n",
       "      <td>1</td>\n",
       "      <td>Q. What's O. J. Simpson's web address? A. Slas...</td>\n",
       "      <td>117</td>\n",
       "      <td>-8.469</td>\n",
       "    </tr>\n",
       "    <tr>\n",
       "      <th>3</th>\n",
       "      <td>1</td>\n",
       "      <td>Q. What's O. J. Simpson's web address? A. Slas...</td>\n",
       "      <td>259</td>\n",
       "      <td>2.688</td>\n",
       "    </tr>\n",
       "    <tr>\n",
       "      <th>4</th>\n",
       "      <td>1</td>\n",
       "      <td>Q. What's O. J. Simpson's web address? A. Slas...</td>\n",
       "      <td>167</td>\n",
       "      <td>8.125</td>\n",
       "    </tr>\n",
       "  </tbody>\n",
       "</table>\n",
       "</div>"
      ],
      "text/plain": [
       "   joke_id                                          joke_text  user_id  Rating\n",
       "0        1  Q. What's O. J. Simpson's web address? A. Slas...       41   3.062\n",
       "1        1  Q. What's O. J. Simpson's web address? A. Slas...      282   1.062\n",
       "2        1  Q. What's O. J. Simpson's web address? A. Slas...      117  -8.469\n",
       "3        1  Q. What's O. J. Simpson's web address? A. Slas...      259   2.688\n",
       "4        1  Q. What's O. J. Simpson's web address? A. Slas...      167   8.125"
      ]
     },
     "execution_count": 8,
     "metadata": {},
     "output_type": "execute_result"
    }
   ],
   "source": [
    "df3=df\n",
    "df3.head()"
   ]
  },
  {
   "cell_type": "code",
   "execution_count": 9,
   "metadata": {},
   "outputs": [
    {
     "name": "stdout",
     "output_type": "stream",
     "text": [
      "<class 'pandas.core.frame.DataFrame'>\n",
      "Int64Index: 1092059 entries, 0 to 1092058\n",
      "Data columns (total 4 columns):\n",
      "joke_id      1092059 non-null int64\n",
      "joke_text    1092059 non-null object\n",
      "user_id      1092059 non-null int64\n",
      "Rating       1092059 non-null float64\n",
      "dtypes: float64(1), int64(2), object(1)\n",
      "memory usage: 41.7+ MB\n"
     ]
    }
   ],
   "source": [
    "df3.info()"
   ]
  },
  {
   "cell_type": "code",
   "execution_count": 10,
   "metadata": {},
   "outputs": [
    {
     "data": {
      "text/plain": [
       "count    139.000000\n",
       "mean       1.620978\n",
       "std        1.465558\n",
       "min       -2.734815\n",
       "25%        0.766440\n",
       "50%        1.865004\n",
       "75%        2.822265\n",
       "max        3.733667\n",
       "Name: Rating, dtype: float64"
      ]
     },
     "execution_count": 10,
     "metadata": {},
     "output_type": "execute_result"
    }
   ],
   "source": [
    "ss=df3.groupby('joke_text',as_index=False).mean()\n",
    "ss.head()\n",
    "ss['Rating'].describe()"
   ]
  },
  {
   "cell_type": "code",
   "execution_count": 11,
   "metadata": {},
   "outputs": [],
   "source": [
    "def get_rating_class(rating):\n",
    "    class1=0\n",
    "    if(rating<=0.0):\n",
    "        class1=0\n",
    "    elif(rating<=1):\n",
    "        class1=1\n",
    "    elif(rating<=2):\n",
    "        class1=2\n",
    "    else:\n",
    "        class1=3\n",
    "    return class1"
   ]
  },
  {
   "cell_type": "code",
   "execution_count": 12,
   "metadata": {},
   "outputs": [],
   "source": [
    "df3=ss"
   ]
  },
  {
   "cell_type": "code",
   "execution_count": 13,
   "metadata": {},
   "outputs": [
    {
     "data": {
      "text/html": [
       "<div>\n",
       "<style scoped>\n",
       "    .dataframe tbody tr th:only-of-type {\n",
       "        vertical-align: middle;\n",
       "    }\n",
       "\n",
       "    .dataframe tbody tr th {\n",
       "        vertical-align: top;\n",
       "    }\n",
       "\n",
       "    .dataframe thead th {\n",
       "        text-align: right;\n",
       "    }\n",
       "</style>\n",
       "<table border=\"1\" class=\"dataframe\">\n",
       "  <thead>\n",
       "    <tr style=\"text-align: right;\">\n",
       "      <th></th>\n",
       "      <th>joke_text</th>\n",
       "      <th>joke_id</th>\n",
       "      <th>user_id</th>\n",
       "      <th>Rating</th>\n",
       "      <th>Rate</th>\n",
       "    </tr>\n",
       "  </thead>\n",
       "  <tbody>\n",
       "    <tr>\n",
       "      <th>0</th>\n",
       "      <td>(A) The Japanese eat very little fat and suffe...</td>\n",
       "      <td>97.0</td>\n",
       "      <td>20502.093439</td>\n",
       "      <td>2.598612</td>\n",
       "      <td>3</td>\n",
       "    </tr>\n",
       "    <tr>\n",
       "      <th>1</th>\n",
       "      <td>A Briton, a Frenchman and a Russian are viewin...</td>\n",
       "      <td>116.0</td>\n",
       "      <td>22536.930509</td>\n",
       "      <td>3.217258</td>\n",
       "      <td>3</td>\n",
       "    </tr>\n",
       "    <tr>\n",
       "      <th>2</th>\n",
       "      <td>A Czechoslovakian man felt his eyesight was gr...</td>\n",
       "      <td>78.0</td>\n",
       "      <td>20671.598637</td>\n",
       "      <td>2.317262</td>\n",
       "      <td>3</td>\n",
       "    </tr>\n",
       "    <tr>\n",
       "      <th>3</th>\n",
       "      <td>A Jewish young man was seeing a psychiatrist f...</td>\n",
       "      <td>27.0</td>\n",
       "      <td>19330.746230</td>\n",
       "      <td>0.043754</td>\n",
       "      <td>1</td>\n",
       "    </tr>\n",
       "    <tr>\n",
       "      <th>4</th>\n",
       "      <td>A Panda walks into a bar, sits down at a table...</td>\n",
       "      <td>81.0</td>\n",
       "      <td>20123.615829</td>\n",
       "      <td>1.923169</td>\n",
       "      <td>2</td>\n",
       "    </tr>\n",
       "  </tbody>\n",
       "</table>\n",
       "</div>"
      ],
      "text/plain": [
       "                                           joke_text  joke_id       user_id  \\\n",
       "0  (A) The Japanese eat very little fat and suffe...     97.0  20502.093439   \n",
       "1  A Briton, a Frenchman and a Russian are viewin...    116.0  22536.930509   \n",
       "2  A Czechoslovakian man felt his eyesight was gr...     78.0  20671.598637   \n",
       "3  A Jewish young man was seeing a psychiatrist f...     27.0  19330.746230   \n",
       "4  A Panda walks into a bar, sits down at a table...     81.0  20123.615829   \n",
       "\n",
       "     Rating  Rate  \n",
       "0  2.598612     3  \n",
       "1  3.217258     3  \n",
       "2  2.317262     3  \n",
       "3  0.043754     1  \n",
       "4  1.923169     2  "
      ]
     },
     "execution_count": 13,
     "metadata": {},
     "output_type": "execute_result"
    }
   ],
   "source": [
    "df3['Rate']=ss['Rating'].apply(get_rating_class)\n",
    "df3.head()"
   ]
  },
  {
   "cell_type": "code",
   "execution_count": 14,
   "metadata": {},
   "outputs": [
    {
     "data": {
      "text/plain": [
       "3    63\n",
       "2    38\n",
       "0    22\n",
       "1    16\n",
       "Name: Rate, dtype: int64"
      ]
     },
     "execution_count": 14,
     "metadata": {},
     "output_type": "execute_result"
    }
   ],
   "source": [
    "df3['Rate'].value_counts()"
   ]
  },
  {
   "cell_type": "code",
   "execution_count": 15,
   "metadata": {},
   "outputs": [
    {
     "data": {
      "image/png": "[encoded data removed]",
      "text/plain": [
       "<Figure size 432x288 with 1 Axes>"
      ]
     },
     "metadata": {
      "needs_background": "light"
     },
     "output_type": "display_data"
    }
   ],
   "source": [
    "df3['Rate'].value_counts().plot.bar(ylim=0)\n",
    "plt.show()"
   ]
  },
  {
   "cell_type": "code",
   "execution_count": 16,
   "metadata": {},
   "outputs": [
    {
     "name": "stdout",
     "output_type": "stream",
     "text": [
      "63 38 22 16\n"
     ]
    }
   ],
   "source": [
    "cnt_cls3,cnt_cls2,cnt_cls0,cnt_cls1=df3['Rate'].value_counts()\n",
    "cls3=df3[df3['Rate']==3]\n",
    "cls2=df3[df3['Rate']==2]\n",
    "cls0=df3[df3['Rate']==0]\n",
    "cls1=df3[df3['Rate']==1]\n",
    "print(cnt_cls3,cnt_cls2,cnt_cls0,cnt_cls1)"
   ]
  },
  {
   "cell_type": "code",
   "execution_count": 17,
   "metadata": {},
   "outputs": [
    {
     "data": {
      "text/plain": [
       "(63, 5)"
      ]
     },
     "execution_count": 17,
     "metadata": {},
     "output_type": "execute_result"
    }
   ],
   "source": [
    "class_2_ovr_smpl=cls2.sample(cnt_cls3,replace=True)\n",
    "class_2_ovr_smpl.shape"
   ]
  },
  {
   "cell_type": "code",
   "execution_count": 18,
   "metadata": {},
   "outputs": [
    {
     "data": {
      "text/plain": [
       "(63, 5)"
      ]
     },
     "execution_count": 18,
     "metadata": {},
     "output_type": "execute_result"
    }
   ],
   "source": [
    "class_0_ovr_smpl=cls0.sample(cnt_cls3,replace=True)\n",
    "class_0_ovr_smpl.shape"
   ]
  },
  {
   "cell_type": "code",
   "execution_count": 19,
   "metadata": {},
   "outputs": [
    {
     "data": {
      "text/plain": [
       "(63, 5)"
      ]
     },
     "execution_count": 19,
     "metadata": {},
     "output_type": "execute_result"
    }
   ],
   "source": [
    "class_1_ovr_smpl=cls1.sample(cnt_cls3,replace=True)\n",
    "class_1_ovr_smpl.shape"
   ]
  },
  {
   "cell_type": "code",
   "execution_count": 20,
   "metadata": {},
   "outputs": [
    {
     "data": {
      "text/plain": [
       "(252, 5)"
      ]
     },
     "execution_count": 20,
     "metadata": {},
     "output_type": "execute_result"
    }
   ],
   "source": [
    "df_total=pd.concat([cls3,class_2_ovr_smpl,class_0_ovr_smpl,class_1_ovr_smpl])\n",
    "df_total.shape"
   ]
  },
  {
   "cell_type": "code",
   "execution_count": 21,
   "metadata": {},
   "outputs": [
    {
     "data": {
      "text/plain": [
       "3    63\n",
       "2    63\n",
       "1    63\n",
       "0    63\n",
       "Name: Rate, dtype: int64"
      ]
     },
     "execution_count": 21,
     "metadata": {},
     "output_type": "execute_result"
    }
   ],
   "source": [
    "df_total['Rate'].value_counts()"
   ]
  },
  {
   "cell_type": "code",
   "execution_count": 22,
   "metadata": {},
   "outputs": [
    {
     "data": {
      "text/html": [
       "<div>\n",
       "<style scoped>\n",
       "    .dataframe tbody tr th:only-of-type {\n",
       "        vertical-align: middle;\n",
       "    }\n",
       "\n",
       "    .dataframe tbody tr th {\n",
       "        vertical-align: top;\n",
       "    }\n",
       "\n",
       "    .dataframe thead th {\n",
       "        text-align: right;\n",
       "    }\n",
       "</style>\n",
       "<table border=\"1\" class=\"dataframe\">\n",
       "  <thead>\n",
       "    <tr style=\"text-align: right;\">\n",
       "      <th></th>\n",
       "      <th>joke_text</th>\n",
       "      <th>joke_id</th>\n",
       "      <th>user_id</th>\n",
       "      <th>Rating</th>\n",
       "      <th>Rate</th>\n",
       "    </tr>\n",
       "  </thead>\n",
       "  <tbody>\n",
       "    <tr>\n",
       "      <th>0</th>\n",
       "      <td>(A) The Japanese eat very little fat and suffe...</td>\n",
       "      <td>97.0</td>\n",
       "      <td>20502.093439</td>\n",
       "      <td>2.598612</td>\n",
       "      <td>3</td>\n",
       "    </tr>\n",
       "    <tr>\n",
       "      <th>1</th>\n",
       "      <td>A Briton, a Frenchman and a Russian are viewin...</td>\n",
       "      <td>116.0</td>\n",
       "      <td>22536.930509</td>\n",
       "      <td>3.217258</td>\n",
       "      <td>3</td>\n",
       "    </tr>\n",
       "    <tr>\n",
       "      <th>2</th>\n",
       "      <td>A Czechoslovakian man felt his eyesight was gr...</td>\n",
       "      <td>78.0</td>\n",
       "      <td>20671.598637</td>\n",
       "      <td>2.317262</td>\n",
       "      <td>3</td>\n",
       "    </tr>\n",
       "    <tr>\n",
       "      <th>5</th>\n",
       "      <td>A blonde, brunette, and a red head are all lin...</td>\n",
       "      <td>135.0</td>\n",
       "      <td>20038.335178</td>\n",
       "      <td>2.436230</td>\n",
       "      <td>3</td>\n",
       "    </tr>\n",
       "    <tr>\n",
       "      <th>7</th>\n",
       "      <td>A bus station is where a bus stops. A train st...</td>\n",
       "      <td>89.0</td>\n",
       "      <td>20313.912700</td>\n",
       "      <td>2.045504</td>\n",
       "      <td>3</td>\n",
       "    </tr>\n",
       "  </tbody>\n",
       "</table>\n",
       "</div>"
      ],
      "text/plain": [
       "                                           joke_text  joke_id       user_id  \\\n",
       "0  (A) The Japanese eat very little fat and suffe...     97.0  20502.093439   \n",
       "1  A Briton, a Frenchman and a Russian are viewin...    116.0  22536.930509   \n",
       "2  A Czechoslovakian man felt his eyesight was gr...     78.0  20671.598637   \n",
       "5  A blonde, brunette, and a red head are all lin...    135.0  20038.335178   \n",
       "7  A bus station is where a bus stops. A train st...     89.0  20313.912700   \n",
       "\n",
       "     Rating  Rate  \n",
       "0  2.598612     3  \n",
       "1  3.217258     3  \n",
       "2  2.317262     3  \n",
       "5  2.436230     3  \n",
       "7  2.045504     3  "
      ]
     },
     "execution_count": 22,
     "metadata": {},
     "output_type": "execute_result"
    }
   ],
   "source": [
    "df_total.head()"
   ]
  },
  {
   "cell_type": "code",
   "execution_count": 23,
   "metadata": {},
   "outputs": [],
   "source": [
    "stemmer = PorterStemmer()\n",
    "words = stopwords.words(\"english\")\n",
    "df_total['cleaned'] = df_total['joke_text'].apply(lambda x: \" \".join([stemmer.stem(i) for i in re.sub(\"[^a-zA-Z]\", \" \", x).split() if i not in words]).lower())"
   ]
  },
  {
   "cell_type": "code",
   "execution_count": 24,
   "metadata": {},
   "outputs": [
    {
     "data": {
      "text/html": [
       "<div>\n",
       "<style scoped>\n",
       "    .dataframe tbody tr th:only-of-type {\n",
       "        vertical-align: middle;\n",
       "    }\n",
       "\n",
       "    .dataframe tbody tr th {\n",
       "        vertical-align: top;\n",
       "    }\n",
       "\n",
       "    .dataframe thead th {\n",
       "        text-align: right;\n",
       "    }\n",
       "</style>\n",
       "<table border=\"1\" class=\"dataframe\">\n",
       "  <thead>\n",
       "    <tr style=\"text-align: right;\">\n",
       "      <th></th>\n",
       "      <th>joke_text</th>\n",
       "      <th>joke_id</th>\n",
       "      <th>user_id</th>\n",
       "      <th>Rating</th>\n",
       "      <th>Rate</th>\n",
       "      <th>cleaned</th>\n",
       "    </tr>\n",
       "  </thead>\n",
       "  <tbody>\n",
       "    <tr>\n",
       "      <th>0</th>\n",
       "      <td>(A) The Japanese eat very little fat and suffe...</td>\n",
       "      <td>97.0</td>\n",
       "      <td>20502.093439</td>\n",
       "      <td>2.598612</td>\n",
       "      <td>3</td>\n",
       "      <td>a the japanes eat littl fat suffer fewer heart...</td>\n",
       "    </tr>\n",
       "    <tr>\n",
       "      <th>1</th>\n",
       "      <td>A Briton, a Frenchman and a Russian are viewin...</td>\n",
       "      <td>116.0</td>\n",
       "      <td>22536.930509</td>\n",
       "      <td>3.217258</td>\n",
       "      <td>3</td>\n",
       "      <td>a briton frenchman russian view paint adam eve...</td>\n",
       "    </tr>\n",
       "    <tr>\n",
       "      <th>2</th>\n",
       "      <td>A Czechoslovakian man felt his eyesight was gr...</td>\n",
       "      <td>78.0</td>\n",
       "      <td>20671.598637</td>\n",
       "      <td>2.317262</td>\n",
       "      <td>3</td>\n",
       "      <td>a czechoslovakian man felt eyesight grow stead...</td>\n",
       "    </tr>\n",
       "    <tr>\n",
       "      <th>5</th>\n",
       "      <td>A blonde, brunette, and a red head are all lin...</td>\n",
       "      <td>135.0</td>\n",
       "      <td>20038.335178</td>\n",
       "      <td>2.436230</td>\n",
       "      <td>3</td>\n",
       "      <td>a blond brunett red head line shot death fire ...</td>\n",
       "    </tr>\n",
       "    <tr>\n",
       "      <th>7</th>\n",
       "      <td>A bus station is where a bus stops. A train st...</td>\n",
       "      <td>89.0</td>\n",
       "      <td>20313.912700</td>\n",
       "      <td>2.045504</td>\n",
       "      <td>3</td>\n",
       "      <td>a bu station bu stop a train station train sto...</td>\n",
       "    </tr>\n",
       "  </tbody>\n",
       "</table>\n",
       "</div>"
      ],
      "text/plain": [
       "                                           joke_text  joke_id       user_id  \\\n",
       "0  (A) The Japanese eat very little fat and suffe...     97.0  20502.093439   \n",
       "1  A Briton, a Frenchman and a Russian are viewin...    116.0  22536.930509   \n",
       "2  A Czechoslovakian man felt his eyesight was gr...     78.0  20671.598637   \n",
       "5  A blonde, brunette, and a red head are all lin...    135.0  20038.335178   \n",
       "7  A bus station is where a bus stops. A train st...     89.0  20313.912700   \n",
       "\n",
       "     Rating  Rate                                            cleaned  \n",
       "0  2.598612     3  a the japanes eat littl fat suffer fewer heart...  \n",
       "1  3.217258     3  a briton frenchman russian view paint adam eve...  \n",
       "2  2.317262     3  a czechoslovakian man felt eyesight grow stead...  \n",
       "5  2.436230     3  a blond brunett red head line shot death fire ...  \n",
       "7  2.045504     3  a bu station bu stop a train station train sto...  "
      ]
     },
     "execution_count": 24,
     "metadata": {},
     "output_type": "execute_result"
    }
   ],
   "source": [
    "df_total.head()"
   ]
  },
  {
   "cell_type": "code",
   "execution_count": 25,
   "metadata": {},
   "outputs": [
    {
     "data": {
      "text/plain": [
       "(252, 6)"
      ]
     },
     "execution_count": 25,
     "metadata": {},
     "output_type": "execute_result"
    }
   ],
   "source": [
    "df_total.shape"
   ]
  },
  {
   "cell_type": "code",
   "execution_count": 34,
   "metadata": {},
   "outputs": [
    {
     "data": {
      "text/plain": [
       "(252, 4966)"
      ]
     },
     "execution_count": 34,
     "metadata": {},
     "output_type": "execute_result"
    }
   ],
   "source": [
    "vectorizer = TfidfVectorizer( stop_words=\"english\", sublinear_tf=True, norm='l2', ngram_range=(1, 2))\n",
    "final_features = vectorizer.fit_transform(df_total['cleaned']).toarray()\n",
    "final_features.shape"
   ]
  },
  {
   "cell_type": "code",
   "execution_count": 35,
   "metadata": {},
   "outputs": [
    {
     "data": {
      "text/plain": [
       "array([0.19142453, 0.06606106, 0.06606106, ..., 0.24249934, 0.13649514,\n",
       "       0.24249934])"
      ]
     },
     "execution_count": 35,
     "metadata": {},
     "output_type": "execute_result"
    }
   ],
   "source": [
    "final_features[final_features>0]"
   ]
  },
  {
   "cell_type": "code",
   "execution_count": 36,
   "metadata": {},
   "outputs": [
    {
     "data": {
      "text/plain": [
       "3    51\n",
       "2    51\n",
       "1    50\n",
       "0    47\n",
       "Name: Rate, dtype: int64"
      ]
     },
     "execution_count": 36,
     "metadata": {},
     "output_type": "execute_result"
    }
   ],
   "source": [
    "X = final_features\n",
    "Y = df_total['Rate']\n",
    "X_train, X_test, y_train, y_test = train_test_split(X, Y, test_size=0.21)\n",
    "y_train.value_counts()\n"
   ]
  },
  {
   "cell_type": "code",
   "execution_count": 40,
   "metadata": {},
   "outputs": [],
   "source": [
    "#pipeline = Pipeline([('vect', vectorizer),\n",
    "#                     ('chi',  SelectKBest(chi2, k=200)),\n",
    "#                     ('clf', RandomForestClassifier())])\n",
    "#model = pipeline.fit(X_train, y_train)\n",
    "#with open('RandomForest.pickle', 'wb') as f:\n",
    "#    pickle.dump(model, f)"
   ]
  },
  {
   "cell_type": "code",
   "execution_count": 41,
   "metadata": {},
   "outputs": [
    {
     "name": "stdout",
     "output_type": "stream",
     "text": [
      "(199, 4966)\n"
     ]
    }
   ],
   "source": [
    "sb=SelectKBest(chi2, k='all')\n",
    "X_new = sb.fit_transform(X_train, y_train)\n",
    "print(X_new.shape)\n",
    "X_test_new=sb.transform(X_test)"
   ]
  },
  {
   "cell_type": "code",
   "execution_count": 42,
   "metadata": {},
   "outputs": [
    {
     "name": "stdout",
     "output_type": "stream",
     "text": [
      "Train Score: 1.0\n",
      "Test Score: 0.7547169811320755\n"
     ]
    }
   ],
   "source": [
    "dt=DecisionTreeClassifier()\n",
    "dt.fit(X_new,y_train)\n",
    "print('Train Score:',dt.score(X_new,y_train))\n",
    "print('Test Score:',dt.score(X_test_new,y_test))"
   ]
  },
  {
   "cell_type": "code",
   "execution_count": 43,
   "metadata": {},
   "outputs": [
    {
     "name": "stdout",
     "output_type": "stream",
     "text": [
      "              precision    recall  f1-score   support\n",
      "\n",
      "           0       0.94      0.94      0.94        16\n",
      "           1       1.00      0.92      0.96        13\n",
      "           2       0.53      0.67      0.59        12\n",
      "           3       0.50      0.42      0.45        12\n",
      "\n",
      "    accuracy                           0.75        53\n",
      "   macro avg       0.74      0.74      0.74        53\n",
      "weighted avg       0.76      0.75      0.76        53\n",
      "\n",
      "[[15  0  0  1]\n",
      " [ 0 12  1  0]\n",
      " [ 0  0  8  4]\n",
      " [ 1  0  6  5]]\n"
     ]
    }
   ],
   "source": [
    "ypred=dt.predict(X_test_new)\n",
    "# confusion matrix and classification report(precision, recall, F1-score)\n",
    "print(classification_report(y_test, ypred))\n",
    "print(confusion_matrix(y_test,ypred))"
   ]
  },
  {
   "cell_type": "code",
   "execution_count": 44,
   "metadata": {},
   "outputs": [
    {
     "name": "stdout",
     "output_type": "stream",
     "text": [
      "Train Score: 1.0\n",
      "Test Score: 0.8490566037735849\n"
     ]
    }
   ],
   "source": [
    "rf=RandomForestClassifier(random_state=1)\n",
    "rf.fit(X_new,y_train)\n",
    "print('Train Score:',rf.score(X_new,y_train))\n",
    "print('Test Score:',rf.score(X_test_new,y_test))"
   ]
  },
  {
   "cell_type": "code",
   "execution_count": 45,
   "metadata": {},
   "outputs": [
    {
     "name": "stdout",
     "output_type": "stream",
     "text": [
      "              precision    recall  f1-score   support\n",
      "\n",
      "           0       0.83      0.94      0.88        16\n",
      "           1       1.00      0.92      0.96        13\n",
      "           2       0.89      0.67      0.76        12\n",
      "           3       0.71      0.83      0.77        12\n",
      "\n",
      "    accuracy                           0.85        53\n",
      "   macro avg       0.86      0.84      0.84        53\n",
      "weighted avg       0.86      0.85      0.85        53\n",
      "\n",
      "[[15  0  0  1]\n",
      " [ 1 12  0  0]\n",
      " [ 1  0  8  3]\n",
      " [ 1  0  1 10]]\n"
     ]
    }
   ],
   "source": [
    "ypred=rf.predict(X_test_new)\n",
    "# confusion matrix and classification report(precision, recall, F1-score)\n",
    "print(classification_report(y_test, ypred))\n",
    "print(confusion_matrix(y_test,ypred))"
   ]
  },
  {
   "cell_type": "code",
   "execution_count": 46,
   "metadata": {},
   "outputs": [
    {
     "name": "stdout",
     "output_type": "stream",
     "text": [
      "Train Score: 1.0\n",
      "Test Score: 0.8490566037735849\n"
     ]
    }
   ],
   "source": [
    "mnb=MultinomialNB(alpha=0)\n",
    "mnb.fit(X_new,y_train)\n",
    "print('Train Score:',mnb.score(X_new,y_train))\n",
    "print('Test Score:',mnb.score(X_test_new,y_test))"
   ]
  },
  {
   "cell_type": "code",
   "execution_count": 47,
   "metadata": {},
   "outputs": [
    {
     "name": "stdout",
     "output_type": "stream",
     "text": [
      "              precision    recall  f1-score   support\n",
      "\n",
      "           0       1.00      0.94      0.97        16\n",
      "           1       1.00      0.92      0.96        13\n",
      "           2       0.80      0.67      0.73        12\n",
      "           3       0.62      0.83      0.71        12\n",
      "\n",
      "    accuracy                           0.85        53\n",
      "   macro avg       0.86      0.84      0.84        53\n",
      "weighted avg       0.87      0.85      0.85        53\n",
      "\n",
      "[[15  0  0  1]\n",
      " [ 0 12  0  1]\n",
      " [ 0  0  8  4]\n",
      " [ 0  0  2 10]]\n"
     ]
    }
   ],
   "source": [
    "ypred=mnb.predict(X_test_new)\n",
    "# confusion matrix and classification report(precision, recall, F1-score)\n",
    "print(classification_report(y_test, ypred))\n",
    "print(confusion_matrix(y_test,ypred))"
   ]
  },
  {
   "cell_type": "code",
   "execution_count": 36,
   "metadata": {},
   "outputs": [],
   "source": [
    "with open('Decision.pickle', 'wb') as f:\n",
    "    pickle.dump(dt, f)"
   ]
  },
  {
   "cell_type": "code",
   "execution_count": 49,
   "metadata": {},
   "outputs": [
    {
     "name": "stdout",
     "output_type": "stream",
     "text": [
      "Train Score: 1.0\n",
      "Test Score: 0.8867924528301887\n"
     ]
    }
   ],
   "source": [
    "from sklearn.naive_bayes import BernoulliNB\n",
    "bnb=BernoulliNB(alpha=0)\n",
    "bnb.fit(X_new,y_train)\n",
    "print('Train Score:',bnb.score(X_new,y_train))\n",
    "print('Test Score:',bnb.score(X_test_new,y_test))"
   ]
  },
  {
   "cell_type": "code",
   "execution_count": 50,
   "metadata": {},
   "outputs": [
    {
     "name": "stdout",
     "output_type": "stream",
     "text": [
      "              precision    recall  f1-score   support\n",
      "\n",
      "           0       1.00      0.94      0.97        16\n",
      "           1       1.00      0.92      0.96        13\n",
      "           2       0.90      0.75      0.82        12\n",
      "           3       0.69      0.92      0.79        12\n",
      "\n",
      "    accuracy                           0.89        53\n",
      "   macro avg       0.90      0.88      0.88        53\n",
      "weighted avg       0.91      0.89      0.89        53\n",
      "\n",
      "[[15  0  0  1]\n",
      " [ 0 12  0  1]\n",
      " [ 0  0  9  3]\n",
      " [ 0  0  1 11]]\n"
     ]
    }
   ],
   "source": [
    "ypred=bnb.predict(X_test_new)\n",
    "# confusion matrix and classification report(precision, recall, F1-score)\n",
    "print(classification_report(y_test, ypred))\n",
    "print(confusion_matrix(y_test,ypred))"
   ]
  },
  {
   "cell_type": "code",
   "execution_count": null,
   "metadata": {},
   "outputs": [],
   "source": []
  },
  {
   "cell_type": "code",
   "execution_count": 37,
   "metadata": {},
   "outputs": [
    {
     "name": "stdout",
     "output_type": "stream",
     "text": [
      "Train Score: 1.0\n",
      "Test Score: 0.9433962264150944\n"
     ]
    }
   ],
   "source": [
    "gbr=GradientBoostingClassifier()\n",
    "gbr.fit(X_new,y_train)\n",
    "print('Train Score:',gbr.score(X_new,y_train))\n",
    "print('Test Score:',gbr.score(X_test_new,y_test))"
   ]
  },
  {
   "cell_type": "code",
   "execution_count": 38,
   "metadata": {},
   "outputs": [
    {
     "name": "stdout",
     "output_type": "stream",
     "text": [
      "              precision    recall  f1-score   support\n",
      "\n",
      "           0       1.00      1.00      1.00        15\n",
      "           1       0.93      1.00      0.96        13\n",
      "           2       1.00      0.87      0.93        15\n",
      "           3       0.82      0.90      0.86        10\n",
      "\n",
      "    accuracy                           0.94        53\n",
      "   macro avg       0.94      0.94      0.94        53\n",
      "weighted avg       0.95      0.94      0.94        53\n",
      "\n",
      "[[15  0  0  0]\n",
      " [ 0 13  0  0]\n",
      " [ 0  0 13  2]\n",
      " [ 0  1  0  9]]\n"
     ]
    }
   ],
   "source": [
    "ypred=gbr.predict(X_test_new)\n",
    "# confusion matrix and classification report(precision, recall, F1-score)\n",
    "print(classification_report(y_test, ypred))\n",
    "print(confusion_matrix(y_test,ypred))"
   ]
  },
  {
   "cell_type": "code",
   "execution_count": null,
   "metadata": {},
   "outputs": [],
   "source": []
  },
  {
   "cell_type": "code",
   "execution_count": null,
   "metadata": {},
   "outputs": [],
   "source": []
  }
 ],
 "metadata": {
  "kernelspec": {
   "display_name": "Python 3",
   "language": "python",
   "name": "python3"
  },
  "language_info": {
   "codemirror_mode": {
    "name": "ipython",
    "version": 3
   },
   "file_extension": ".py",
   "mimetype": "text/x-python",
   "name": "python",
   "nbconvert_exporter": "python",
   "pygments_lexer": "ipython3",
   "version": "3.7.1"
  }
 },
 "nbformat": 4,
 "nbformat_minor": 2
}
