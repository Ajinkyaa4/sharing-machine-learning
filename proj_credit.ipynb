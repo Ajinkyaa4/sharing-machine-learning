{
 "cells": [
  {
   "cell_type": "code",
   "execution_count": 1,
   "metadata": {},
   "outputs": [],
   "source": [
    "import pandas as pd\n",
    "import numpy as np\n",
    "import matplotlib.pyplot as plt\n",
    "import seaborn as sns\n",
    "from sklearn.preprocessing import StandardScaler,LabelEncoder\n",
    "from sklearn.model_selection import train_test_split\n",
    "import random\n",
    "import warnings\n",
    "warnings.filterwarnings('ignore')\n",
    "from sklearn.linear_model import LogisticRegression,LogisticRegressionCV\n",
    "from sklearn.neighbors import KNeighborsClassifier\n",
    "from sklearn.ensemble import RandomForestClassifier,GradientBoostingClassifier\n",
    "from sklearn.tree import DecisionTreeClassifier"
   ]
  },
  {
   "cell_type": "code",
   "execution_count": 2,
   "metadata": {},
   "outputs": [
    {
     "data": {
      "text/html": [
       "<div>\n",
       "<style scoped>\n",
       "    .dataframe tbody tr th:only-of-type {\n",
       "        vertical-align: middle;\n",
       "    }\n",
       "\n",
       "    .dataframe tbody tr th {\n",
       "        vertical-align: top;\n",
       "    }\n",
       "\n",
       "    .dataframe thead th {\n",
       "        text-align: right;\n",
       "    }\n",
       "</style>\n",
       "<table border=\"1\" class=\"dataframe\">\n",
       "  <thead>\n",
       "    <tr style=\"text-align: right;\">\n",
       "      <th></th>\n",
       "      <th>customer_id</th>\n",
       "      <th>demographic_slice</th>\n",
       "      <th>country_reg</th>\n",
       "      <th>ad_exp</th>\n",
       "      <th>est_income</th>\n",
       "      <th>hold_bal</th>\n",
       "      <th>pref_cust_prob</th>\n",
       "      <th>imp_cscore</th>\n",
       "      <th>RiskScore</th>\n",
       "      <th>imp_crediteval</th>\n",
       "      <th>axio_score</th>\n",
       "      <th>card_offer</th>\n",
       "    </tr>\n",
       "  </thead>\n",
       "  <tbody>\n",
       "    <tr>\n",
       "      <th>0</th>\n",
       "      <td>713782</td>\n",
       "      <td>AX03efs</td>\n",
       "      <td>W</td>\n",
       "      <td>N</td>\n",
       "      <td>33407.901749</td>\n",
       "      <td>3.000000</td>\n",
       "      <td>0.531112</td>\n",
       "      <td>619</td>\n",
       "      <td>503.249027</td>\n",
       "      <td>23.977827</td>\n",
       "      <td>0.137289</td>\n",
       "      <td>False</td>\n",
       "    </tr>\n",
       "    <tr>\n",
       "      <th>1</th>\n",
       "      <td>515901</td>\n",
       "      <td>AX03efs</td>\n",
       "      <td>E</td>\n",
       "      <td>N</td>\n",
       "      <td>19927.533533</td>\n",
       "      <td>20.257927</td>\n",
       "      <td>0.297439</td>\n",
       "      <td>527</td>\n",
       "      <td>820.108146</td>\n",
       "      <td>22.986398</td>\n",
       "      <td>0.052264</td>\n",
       "      <td>False</td>\n",
       "    </tr>\n",
       "    <tr>\n",
       "      <th>2</th>\n",
       "      <td>95166</td>\n",
       "      <td>AX03efs</td>\n",
       "      <td>W</td>\n",
       "      <td>Y</td>\n",
       "      <td>51222.470997</td>\n",
       "      <td>4.000000</td>\n",
       "      <td>0.018463</td>\n",
       "      <td>606</td>\n",
       "      <td>586.605795</td>\n",
       "      <td>24.939219</td>\n",
       "      <td>0.452035</td>\n",
       "      <td>False</td>\n",
       "    </tr>\n",
       "    <tr>\n",
       "      <th>3</th>\n",
       "      <td>425557</td>\n",
       "      <td>AX03efs</td>\n",
       "      <td>E</td>\n",
       "      <td>Y</td>\n",
       "      <td>67211.587467</td>\n",
       "      <td>18.653631</td>\n",
       "      <td>0.089344</td>\n",
       "      <td>585</td>\n",
       "      <td>634.701982</td>\n",
       "      <td>24.841147</td>\n",
       "      <td>0.564619</td>\n",
       "      <td>False</td>\n",
       "    </tr>\n",
       "    <tr>\n",
       "      <th>4</th>\n",
       "      <td>624581</td>\n",
       "      <td>AX03efs</td>\n",
       "      <td>W</td>\n",
       "      <td>N</td>\n",
       "      <td>20093.342158</td>\n",
       "      <td>4.000000</td>\n",
       "      <td>0.094948</td>\n",
       "      <td>567</td>\n",
       "      <td>631.949979</td>\n",
       "      <td>24.679363</td>\n",
       "      <td>0.917304</td>\n",
       "      <td>False</td>\n",
       "    </tr>\n",
       "  </tbody>\n",
       "</table>\n",
       "</div>"
      ],
      "text/plain": [
       "   customer_id demographic_slice country_reg ad_exp    est_income   hold_bal  \\\n",
       "0       713782           AX03efs           W      N  33407.901749   3.000000   \n",
       "1       515901           AX03efs           E      N  19927.533533  20.257927   \n",
       "2        95166           AX03efs           W      Y  51222.470997   4.000000   \n",
       "3       425557           AX03efs           E      Y  67211.587467  18.653631   \n",
       "4       624581           AX03efs           W      N  20093.342158   4.000000   \n",
       "\n",
       "   pref_cust_prob  imp_cscore   RiskScore  imp_crediteval  axio_score  \\\n",
       "0        0.531112         619  503.249027       23.977827    0.137289   \n",
       "1        0.297439         527  820.108146       22.986398    0.052264   \n",
       "2        0.018463         606  586.605795       24.939219    0.452035   \n",
       "3        0.089344         585  634.701982       24.841147    0.564619   \n",
       "4        0.094948         567  631.949979       24.679363    0.917304   \n",
       "\n",
       "   card_offer  \n",
       "0       False  \n",
       "1       False  \n",
       "2       False  \n",
       "3       False  \n",
       "4       False  "
      ]
     },
     "execution_count": 2,
     "metadata": {},
     "output_type": "execute_result"
    }
   ],
   "source": [
    "df=pd.read_csv('Test 1.csv')\n",
    "df.head()"
   ]
  },
  {
   "cell_type": "code",
   "execution_count": 3,
   "metadata": {},
   "outputs": [
    {
     "data": {
      "text/plain": [
       "(10000, 12)"
      ]
     },
     "execution_count": 3,
     "metadata": {},
     "output_type": "execute_result"
    }
   ],
   "source": [
    "df.shape"
   ]
  },
  {
   "cell_type": "code",
   "execution_count": 4,
   "metadata": {},
   "outputs": [
    {
     "data": {
      "text/plain": [
       "customer_id          0\n",
       "demographic_slice    0\n",
       "country_reg          0\n",
       "ad_exp               0\n",
       "est_income           0\n",
       "hold_bal             0\n",
       "pref_cust_prob       0\n",
       "imp_cscore           0\n",
       "RiskScore            0\n",
       "imp_crediteval       0\n",
       "axio_score           0\n",
       "card_offer           0\n",
       "dtype: int64"
      ]
     },
     "execution_count": 4,
     "metadata": {},
     "output_type": "execute_result"
    }
   ],
   "source": [
    "df.isnull().sum()"
   ]
  },
  {
   "cell_type": "markdown",
   "metadata": {},
   "source": [
    "* There are no null values in the data set. It is a clean data set\n",
    "* The dataset consists of 10000 observations and 12 variables"
   ]
  },
  {
   "cell_type": "code",
   "execution_count": 5,
   "metadata": {},
   "outputs": [
    {
     "name": "stdout",
     "output_type": "stream",
     "text": [
      "<class 'pandas.core.frame.DataFrame'>\n",
      "RangeIndex: 10000 entries, 0 to 9999\n",
      "Data columns (total 12 columns):\n",
      "customer_id          10000 non-null int64\n",
      "demographic_slice    10000 non-null object\n",
      "country_reg          10000 non-null object\n",
      "ad_exp               10000 non-null object\n",
      "est_income           10000 non-null float64\n",
      "hold_bal             10000 non-null float64\n",
      "pref_cust_prob       10000 non-null float64\n",
      "imp_cscore           10000 non-null int64\n",
      "RiskScore            10000 non-null float64\n",
      "imp_crediteval       10000 non-null float64\n",
      "axio_score           10000 non-null float64\n",
      "card_offer           10000 non-null bool\n",
      "dtypes: bool(1), float64(6), int64(2), object(3)\n",
      "memory usage: 869.2+ KB\n"
     ]
    }
   ],
   "source": [
    "df.info()"
   ]
  },
  {
   "cell_type": "markdown",
   "metadata": {},
   "source": [
    "There are :\n",
    "* 3 categorical variables\n",
    "* 8 continuous variables\n",
    "* 1 boolean output variable"
   ]
  },
  {
   "cell_type": "code",
   "execution_count": 6,
   "metadata": {},
   "outputs": [
    {
     "data": {
      "text/plain": [
       "pandas.core.series.Series"
      ]
     },
     "execution_count": 6,
     "metadata": {},
     "output_type": "execute_result"
    }
   ],
   "source": [
    "cust_id=df.customer_id\n",
    "type(cust_id)"
   ]
  },
  {
   "cell_type": "markdown",
   "metadata": {},
   "source": [
    "* Taking customer id in a series so that we can refer it later\n",
    "* cutomer_id is of no use to us in model building. So it can be safely removed"
   ]
  },
  {
   "cell_type": "code",
   "execution_count": 7,
   "metadata": {},
   "outputs": [
    {
     "data": {
      "text/html": [
       "<div>\n",
       "<style scoped>\n",
       "    .dataframe tbody tr th:only-of-type {\n",
       "        vertical-align: middle;\n",
       "    }\n",
       "\n",
       "    .dataframe tbody tr th {\n",
       "        vertical-align: top;\n",
       "    }\n",
       "\n",
       "    .dataframe thead th {\n",
       "        text-align: right;\n",
       "    }\n",
       "</style>\n",
       "<table border=\"1\" class=\"dataframe\">\n",
       "  <thead>\n",
       "    <tr style=\"text-align: right;\">\n",
       "      <th></th>\n",
       "      <th>demographic_slice</th>\n",
       "      <th>country_reg</th>\n",
       "      <th>ad_exp</th>\n",
       "      <th>est_income</th>\n",
       "      <th>hold_bal</th>\n",
       "      <th>pref_cust_prob</th>\n",
       "      <th>imp_cscore</th>\n",
       "      <th>RiskScore</th>\n",
       "      <th>imp_crediteval</th>\n",
       "      <th>axio_score</th>\n",
       "      <th>card_offer</th>\n",
       "    </tr>\n",
       "  </thead>\n",
       "  <tbody>\n",
       "    <tr>\n",
       "      <th>0</th>\n",
       "      <td>AX03efs</td>\n",
       "      <td>W</td>\n",
       "      <td>N</td>\n",
       "      <td>33407.901749</td>\n",
       "      <td>3.000000</td>\n",
       "      <td>0.531112</td>\n",
       "      <td>619</td>\n",
       "      <td>503.249027</td>\n",
       "      <td>23.977827</td>\n",
       "      <td>0.137289</td>\n",
       "      <td>False</td>\n",
       "    </tr>\n",
       "    <tr>\n",
       "      <th>1</th>\n",
       "      <td>AX03efs</td>\n",
       "      <td>E</td>\n",
       "      <td>N</td>\n",
       "      <td>19927.533533</td>\n",
       "      <td>20.257927</td>\n",
       "      <td>0.297439</td>\n",
       "      <td>527</td>\n",
       "      <td>820.108146</td>\n",
       "      <td>22.986398</td>\n",
       "      <td>0.052264</td>\n",
       "      <td>False</td>\n",
       "    </tr>\n",
       "    <tr>\n",
       "      <th>2</th>\n",
       "      <td>AX03efs</td>\n",
       "      <td>W</td>\n",
       "      <td>Y</td>\n",
       "      <td>51222.470997</td>\n",
       "      <td>4.000000</td>\n",
       "      <td>0.018463</td>\n",
       "      <td>606</td>\n",
       "      <td>586.605795</td>\n",
       "      <td>24.939219</td>\n",
       "      <td>0.452035</td>\n",
       "      <td>False</td>\n",
       "    </tr>\n",
       "    <tr>\n",
       "      <th>3</th>\n",
       "      <td>AX03efs</td>\n",
       "      <td>E</td>\n",
       "      <td>Y</td>\n",
       "      <td>67211.587467</td>\n",
       "      <td>18.653631</td>\n",
       "      <td>0.089344</td>\n",
       "      <td>585</td>\n",
       "      <td>634.701982</td>\n",
       "      <td>24.841147</td>\n",
       "      <td>0.564619</td>\n",
       "      <td>False</td>\n",
       "    </tr>\n",
       "    <tr>\n",
       "      <th>4</th>\n",
       "      <td>AX03efs</td>\n",
       "      <td>W</td>\n",
       "      <td>N</td>\n",
       "      <td>20093.342158</td>\n",
       "      <td>4.000000</td>\n",
       "      <td>0.094948</td>\n",
       "      <td>567</td>\n",
       "      <td>631.949979</td>\n",
       "      <td>24.679363</td>\n",
       "      <td>0.917304</td>\n",
       "      <td>False</td>\n",
       "    </tr>\n",
       "  </tbody>\n",
       "</table>\n",
       "</div>"
      ],
      "text/plain": [
       "  demographic_slice country_reg ad_exp    est_income   hold_bal  \\\n",
       "0           AX03efs           W      N  33407.901749   3.000000   \n",
       "1           AX03efs           E      N  19927.533533  20.257927   \n",
       "2           AX03efs           W      Y  51222.470997   4.000000   \n",
       "3           AX03efs           E      Y  67211.587467  18.653631   \n",
       "4           AX03efs           W      N  20093.342158   4.000000   \n",
       "\n",
       "   pref_cust_prob  imp_cscore   RiskScore  imp_crediteval  axio_score  \\\n",
       "0        0.531112         619  503.249027       23.977827    0.137289   \n",
       "1        0.297439         527  820.108146       22.986398    0.052264   \n",
       "2        0.018463         606  586.605795       24.939219    0.452035   \n",
       "3        0.089344         585  634.701982       24.841147    0.564619   \n",
       "4        0.094948         567  631.949979       24.679363    0.917304   \n",
       "\n",
       "   card_offer  \n",
       "0       False  \n",
       "1       False  \n",
       "2       False  \n",
       "3       False  \n",
       "4       False  "
      ]
     },
     "execution_count": 7,
     "metadata": {},
     "output_type": "execute_result"
    }
   ],
   "source": [
    "df.drop('customer_id',axis=1,inplace=True)\n",
    "df.head()"
   ]
  },
  {
   "cell_type": "code",
   "execution_count": 8,
   "metadata": {},
   "outputs": [
    {
     "data": {
      "text/plain": [
       "E    5007\n",
       "W    4993\n",
       "Name: country_reg, dtype: int64"
      ]
     },
     "execution_count": 8,
     "metadata": {},
     "output_type": "execute_result"
    }
   ],
   "source": [
    "df['country_reg'].value_counts()"
   ]
  },
  {
   "cell_type": "code",
   "execution_count": 9,
   "metadata": {},
   "outputs": [
    {
     "data": {
      "text/html": [
       "<div>\n",
       "<style scoped>\n",
       "    .dataframe tbody tr th:only-of-type {\n",
       "        vertical-align: middle;\n",
       "    }\n",
       "\n",
       "    .dataframe tbody tr th {\n",
       "        vertical-align: top;\n",
       "    }\n",
       "\n",
       "    .dataframe thead th {\n",
       "        text-align: right;\n",
       "    }\n",
       "</style>\n",
       "<table border=\"1\" class=\"dataframe\">\n",
       "  <thead>\n",
       "    <tr style=\"text-align: right;\">\n",
       "      <th></th>\n",
       "      <th>est_income</th>\n",
       "      <th>hold_bal</th>\n",
       "      <th>pref_cust_prob</th>\n",
       "      <th>imp_cscore</th>\n",
       "      <th>RiskScore</th>\n",
       "      <th>imp_crediteval</th>\n",
       "      <th>axio_score</th>\n",
       "      <th>card_offer</th>\n",
       "      <th>demographic_slice_AX03efs</th>\n",
       "      <th>demographic_slice_BWEsk45</th>\n",
       "      <th>demographic_slice_CARDIF2</th>\n",
       "      <th>demographic_slice_DERS3w5</th>\n",
       "      <th>ad_exp_N</th>\n",
       "      <th>ad_exp_Y</th>\n",
       "      <th>country_reg_E</th>\n",
       "      <th>country_reg_W</th>\n",
       "    </tr>\n",
       "  </thead>\n",
       "  <tbody>\n",
       "    <tr>\n",
       "      <th>0</th>\n",
       "      <td>33407.901749</td>\n",
       "      <td>3.000000</td>\n",
       "      <td>0.531112</td>\n",
       "      <td>619</td>\n",
       "      <td>503.249027</td>\n",
       "      <td>23.977827</td>\n",
       "      <td>0.137289</td>\n",
       "      <td>False</td>\n",
       "      <td>1</td>\n",
       "      <td>0</td>\n",
       "      <td>0</td>\n",
       "      <td>0</td>\n",
       "      <td>1</td>\n",
       "      <td>0</td>\n",
       "      <td>0</td>\n",
       "      <td>1</td>\n",
       "    </tr>\n",
       "    <tr>\n",
       "      <th>1</th>\n",
       "      <td>19927.533533</td>\n",
       "      <td>20.257927</td>\n",
       "      <td>0.297439</td>\n",
       "      <td>527</td>\n",
       "      <td>820.108146</td>\n",
       "      <td>22.986398</td>\n",
       "      <td>0.052264</td>\n",
       "      <td>False</td>\n",
       "      <td>1</td>\n",
       "      <td>0</td>\n",
       "      <td>0</td>\n",
       "      <td>0</td>\n",
       "      <td>1</td>\n",
       "      <td>0</td>\n",
       "      <td>1</td>\n",
       "      <td>0</td>\n",
       "    </tr>\n",
       "    <tr>\n",
       "      <th>2</th>\n",
       "      <td>51222.470997</td>\n",
       "      <td>4.000000</td>\n",
       "      <td>0.018463</td>\n",
       "      <td>606</td>\n",
       "      <td>586.605795</td>\n",
       "      <td>24.939219</td>\n",
       "      <td>0.452035</td>\n",
       "      <td>False</td>\n",
       "      <td>1</td>\n",
       "      <td>0</td>\n",
       "      <td>0</td>\n",
       "      <td>0</td>\n",
       "      <td>0</td>\n",
       "      <td>1</td>\n",
       "      <td>0</td>\n",
       "      <td>1</td>\n",
       "    </tr>\n",
       "    <tr>\n",
       "      <th>3</th>\n",
       "      <td>67211.587467</td>\n",
       "      <td>18.653631</td>\n",
       "      <td>0.089344</td>\n",
       "      <td>585</td>\n",
       "      <td>634.701982</td>\n",
       "      <td>24.841147</td>\n",
       "      <td>0.564619</td>\n",
       "      <td>False</td>\n",
       "      <td>1</td>\n",
       "      <td>0</td>\n",
       "      <td>0</td>\n",
       "      <td>0</td>\n",
       "      <td>0</td>\n",
       "      <td>1</td>\n",
       "      <td>1</td>\n",
       "      <td>0</td>\n",
       "    </tr>\n",
       "    <tr>\n",
       "      <th>4</th>\n",
       "      <td>20093.342158</td>\n",
       "      <td>4.000000</td>\n",
       "      <td>0.094948</td>\n",
       "      <td>567</td>\n",
       "      <td>631.949979</td>\n",
       "      <td>24.679363</td>\n",
       "      <td>0.917304</td>\n",
       "      <td>False</td>\n",
       "      <td>1</td>\n",
       "      <td>0</td>\n",
       "      <td>0</td>\n",
       "      <td>0</td>\n",
       "      <td>1</td>\n",
       "      <td>0</td>\n",
       "      <td>0</td>\n",
       "      <td>1</td>\n",
       "    </tr>\n",
       "  </tbody>\n",
       "</table>\n",
       "</div>"
      ],
      "text/plain": [
       "     est_income   hold_bal  pref_cust_prob  imp_cscore   RiskScore  \\\n",
       "0  33407.901749   3.000000        0.531112         619  503.249027   \n",
       "1  19927.533533  20.257927        0.297439         527  820.108146   \n",
       "2  51222.470997   4.000000        0.018463         606  586.605795   \n",
       "3  67211.587467  18.653631        0.089344         585  634.701982   \n",
       "4  20093.342158   4.000000        0.094948         567  631.949979   \n",
       "\n",
       "   imp_crediteval  axio_score  card_offer  demographic_slice_AX03efs  \\\n",
       "0       23.977827    0.137289       False                          1   \n",
       "1       22.986398    0.052264       False                          1   \n",
       "2       24.939219    0.452035       False                          1   \n",
       "3       24.841147    0.564619       False                          1   \n",
       "4       24.679363    0.917304       False                          1   \n",
       "\n",
       "   demographic_slice_BWEsk45  demographic_slice_CARDIF2  \\\n",
       "0                          0                          0   \n",
       "1                          0                          0   \n",
       "2                          0                          0   \n",
       "3                          0                          0   \n",
       "4                          0                          0   \n",
       "\n",
       "   demographic_slice_DERS3w5  ad_exp_N  ad_exp_Y  country_reg_E  country_reg_W  \n",
       "0                          0         1         0              0              1  \n",
       "1                          0         1         0              1              0  \n",
       "2                          0         0         1              0              1  \n",
       "3                          0         0         1              1              0  \n",
       "4                          0         1         0              0              1  "
      ]
     },
     "execution_count": 9,
     "metadata": {},
     "output_type": "execute_result"
    }
   ],
   "source": [
    "df2=pd.get_dummies(df,columns=['demographic_slice','ad_exp','country_reg'])\n",
    "df2.head()\n"
   ]
  },
  {
   "cell_type": "markdown",
   "metadata": {},
   "source": [
    "Converting all categorical features into encoded features using one hot encoding"
   ]
  },
  {
   "cell_type": "code",
   "execution_count": 10,
   "metadata": {},
   "outputs": [
    {
     "data": {
      "text/html": [
       "<div>\n",
       "<style scoped>\n",
       "    .dataframe tbody tr th:only-of-type {\n",
       "        vertical-align: middle;\n",
       "    }\n",
       "\n",
       "    .dataframe tbody tr th {\n",
       "        vertical-align: top;\n",
       "    }\n",
       "\n",
       "    .dataframe thead th {\n",
       "        text-align: right;\n",
       "    }\n",
       "</style>\n",
       "<table border=\"1\" class=\"dataframe\">\n",
       "  <thead>\n",
       "    <tr style=\"text-align: right;\">\n",
       "      <th></th>\n",
       "      <th>est_income</th>\n",
       "      <th>hold_bal</th>\n",
       "      <th>pref_cust_prob</th>\n",
       "      <th>imp_cscore</th>\n",
       "      <th>RiskScore</th>\n",
       "      <th>imp_crediteval</th>\n",
       "      <th>axio_score</th>\n",
       "      <th>card_offer</th>\n",
       "      <th>demographic_slice_AX03efs</th>\n",
       "      <th>demographic_slice_BWEsk45</th>\n",
       "      <th>demographic_slice_CARDIF2</th>\n",
       "      <th>demographic_slice_DERS3w5</th>\n",
       "      <th>ad_exp_N</th>\n",
       "      <th>ad_exp_Y</th>\n",
       "      <th>country_reg_E</th>\n",
       "      <th>country_reg_W</th>\n",
       "    </tr>\n",
       "  </thead>\n",
       "  <tbody>\n",
       "    <tr>\n",
       "      <th>0</th>\n",
       "      <td>33407.901749</td>\n",
       "      <td>3.000000</td>\n",
       "      <td>0.531112</td>\n",
       "      <td>619</td>\n",
       "      <td>503.249027</td>\n",
       "      <td>23.977827</td>\n",
       "      <td>0.137289</td>\n",
       "      <td>0</td>\n",
       "      <td>1</td>\n",
       "      <td>0</td>\n",
       "      <td>0</td>\n",
       "      <td>0</td>\n",
       "      <td>1</td>\n",
       "      <td>0</td>\n",
       "      <td>0</td>\n",
       "      <td>1</td>\n",
       "    </tr>\n",
       "    <tr>\n",
       "      <th>1</th>\n",
       "      <td>19927.533533</td>\n",
       "      <td>20.257927</td>\n",
       "      <td>0.297439</td>\n",
       "      <td>527</td>\n",
       "      <td>820.108146</td>\n",
       "      <td>22.986398</td>\n",
       "      <td>0.052264</td>\n",
       "      <td>0</td>\n",
       "      <td>1</td>\n",
       "      <td>0</td>\n",
       "      <td>0</td>\n",
       "      <td>0</td>\n",
       "      <td>1</td>\n",
       "      <td>0</td>\n",
       "      <td>1</td>\n",
       "      <td>0</td>\n",
       "    </tr>\n",
       "    <tr>\n",
       "      <th>2</th>\n",
       "      <td>51222.470997</td>\n",
       "      <td>4.000000</td>\n",
       "      <td>0.018463</td>\n",
       "      <td>606</td>\n",
       "      <td>586.605795</td>\n",
       "      <td>24.939219</td>\n",
       "      <td>0.452035</td>\n",
       "      <td>0</td>\n",
       "      <td>1</td>\n",
       "      <td>0</td>\n",
       "      <td>0</td>\n",
       "      <td>0</td>\n",
       "      <td>0</td>\n",
       "      <td>1</td>\n",
       "      <td>0</td>\n",
       "      <td>1</td>\n",
       "    </tr>\n",
       "    <tr>\n",
       "      <th>3</th>\n",
       "      <td>67211.587467</td>\n",
       "      <td>18.653631</td>\n",
       "      <td>0.089344</td>\n",
       "      <td>585</td>\n",
       "      <td>634.701982</td>\n",
       "      <td>24.841147</td>\n",
       "      <td>0.564619</td>\n",
       "      <td>0</td>\n",
       "      <td>1</td>\n",
       "      <td>0</td>\n",
       "      <td>0</td>\n",
       "      <td>0</td>\n",
       "      <td>0</td>\n",
       "      <td>1</td>\n",
       "      <td>1</td>\n",
       "      <td>0</td>\n",
       "    </tr>\n",
       "    <tr>\n",
       "      <th>4</th>\n",
       "      <td>20093.342158</td>\n",
       "      <td>4.000000</td>\n",
       "      <td>0.094948</td>\n",
       "      <td>567</td>\n",
       "      <td>631.949979</td>\n",
       "      <td>24.679363</td>\n",
       "      <td>0.917304</td>\n",
       "      <td>0</td>\n",
       "      <td>1</td>\n",
       "      <td>0</td>\n",
       "      <td>0</td>\n",
       "      <td>0</td>\n",
       "      <td>1</td>\n",
       "      <td>0</td>\n",
       "      <td>0</td>\n",
       "      <td>1</td>\n",
       "    </tr>\n",
       "  </tbody>\n",
       "</table>\n",
       "</div>"
      ],
      "text/plain": [
       "     est_income   hold_bal  pref_cust_prob  imp_cscore   RiskScore  \\\n",
       "0  33407.901749   3.000000        0.531112         619  503.249027   \n",
       "1  19927.533533  20.257927        0.297439         527  820.108146   \n",
       "2  51222.470997   4.000000        0.018463         606  586.605795   \n",
       "3  67211.587467  18.653631        0.089344         585  634.701982   \n",
       "4  20093.342158   4.000000        0.094948         567  631.949979   \n",
       "\n",
       "   imp_crediteval  axio_score  card_offer  demographic_slice_AX03efs  \\\n",
       "0       23.977827    0.137289           0                          1   \n",
       "1       22.986398    0.052264           0                          1   \n",
       "2       24.939219    0.452035           0                          1   \n",
       "3       24.841147    0.564619           0                          1   \n",
       "4       24.679363    0.917304           0                          1   \n",
       "\n",
       "   demographic_slice_BWEsk45  demographic_slice_CARDIF2  \\\n",
       "0                          0                          0   \n",
       "1                          0                          0   \n",
       "2                          0                          0   \n",
       "3                          0                          0   \n",
       "4                          0                          0   \n",
       "\n",
       "   demographic_slice_DERS3w5  ad_exp_N  ad_exp_Y  country_reg_E  country_reg_W  \n",
       "0                          0         1         0              0              1  \n",
       "1                          0         1         0              1              0  \n",
       "2                          0         0         1              0              1  \n",
       "3                          0         0         1              1              0  \n",
       "4                          0         1         0              0              1  "
      ]
     },
     "execution_count": 10,
     "metadata": {},
     "output_type": "execute_result"
    }
   ],
   "source": [
    "outcome=np.where(df['card_offer']==True,1,0)\n",
    "df2['card_offer']=outcome\n",
    "df2.head()"
   ]
  },
  {
   "cell_type": "code",
   "execution_count": 11,
   "metadata": {},
   "outputs": [
    {
     "data": {
      "text/plain": [
       "0    0.8469\n",
       "1    0.1531\n",
       "Name: card_offer, dtype: float64"
      ]
     },
     "execution_count": 11,
     "metadata": {},
     "output_type": "execute_result"
    }
   ],
   "source": [
    "df2.card_offer.value_counts(normalize=True)"
   ]
  },
  {
   "cell_type": "code",
   "execution_count": 12,
   "metadata": {},
   "outputs": [
    {
     "data": {
      "image/png": "[encoded data removed]",
      "text/plain": [
       "<Figure size 432x288 with 1 Axes>"
      ]
     },
     "metadata": {
      "needs_background": "light"
     },
     "output_type": "display_data"
    }
   ],
   "source": [
    "df2.card_offer.value_counts().plot(kind='bar')\n",
    "plt.show()"
   ]
  },
  {
   "cell_type": "markdown",
   "metadata": {},
   "source": [
    "#### Splitting data into train and test"
   ]
  },
  {
   "cell_type": "code",
   "execution_count": 13,
   "metadata": {},
   "outputs": [],
   "source": [
    "X=df2.drop('card_offer',axis=1)\n",
    "Y=df2['card_offer']\n",
    "x_train,x_test,y_train,y_test=train_test_split(X,Y,test_size=0.3,random_state=1)\n"
   ]
  },
  {
   "cell_type": "markdown",
   "metadata": {},
   "source": [
    "### Logistic Regression"
   ]
  },
  {
   "cell_type": "code",
   "execution_count": 14,
   "metadata": {},
   "outputs": [
    {
     "name": "stdout",
     "output_type": "stream",
     "text": [
      "Train score: 0.8471428571428572\n",
      "Test score: 0.8433333333333334\n"
     ]
    }
   ],
   "source": [
    "log=LogisticRegression(C=0.0007)\n",
    "log.fit(x_train,y_train)\n",
    "print('Train score:',log.score(x_train,y_train))\n",
    "print('Test score:',log.score(x_test,y_test))\n",
    "#print(log.C_)"
   ]
  },
  {
   "cell_type": "code",
   "execution_count": 15,
   "metadata": {},
   "outputs": [],
   "source": [
    "from sklearn.metrics import confusion_matrix,f1_score,roc_curve,roc_auc_score,cohen_kappa_score"
   ]
  },
  {
   "cell_type": "code",
   "execution_count": 16,
   "metadata": {},
   "outputs": [
    {
     "name": "stdout",
     "output_type": "stream",
     "text": [
      "Optimum F1: 0.37373198077949815\n",
      "Optimum Threshold: 0.15447142775690434\n"
     ]
    }
   ],
   "source": [
    "fpr,tpr,threholds=roc_curve(y_test,log.predict_proba(x_test)[:,1])\n",
    "optF1=0\n",
    "optTh=0\n",
    "for th in threholds:\n",
    "    preds=np.where(log.predict_proba(x_test)[:,1]>th,1,0)\n",
    "    f1=f1_score(y_test,preds)\n",
    "    if(optF1<f1):\n",
    "        optF1=f1\n",
    "        optTh=th\n",
    "print('Optimum F1:',optF1)\n",
    "print('Optimum Threshold:',optTh)"
   ]
  },
  {
   "cell_type": "code",
   "execution_count": 17,
   "metadata": {},
   "outputs": [
    {
     "data": {
      "text/html": [
       "<div>\n",
       "<style scoped>\n",
       "    .dataframe tbody tr th:only-of-type {\n",
       "        vertical-align: middle;\n",
       "    }\n",
       "\n",
       "    .dataframe tbody tr th {\n",
       "        vertical-align: top;\n",
       "    }\n",
       "\n",
       "    .dataframe thead th {\n",
       "        text-align: right;\n",
       "    }\n",
       "</style>\n",
       "<table border=\"1\" class=\"dataframe\">\n",
       "  <thead>\n",
       "    <tr style=\"text-align: right;\">\n",
       "      <th></th>\n",
       "      <th>Predicted 0</th>\n",
       "      <th>Predicted 1</th>\n",
       "    </tr>\n",
       "  </thead>\n",
       "  <tbody>\n",
       "    <tr>\n",
       "      <th>Actual 0</th>\n",
       "      <td>1441</td>\n",
       "      <td>1094</td>\n",
       "    </tr>\n",
       "    <tr>\n",
       "      <th>Actual 1</th>\n",
       "      <td>108</td>\n",
       "      <td>357</td>\n",
       "    </tr>\n",
       "  </tbody>\n",
       "</table>\n",
       "</div>"
      ],
      "text/plain": [
       "          Predicted 0  Predicted 1\n",
       "Actual 0         1441         1094\n",
       "Actual 1          108          357"
      ]
     },
     "execution_count": 17,
     "metadata": {},
     "output_type": "execute_result"
    }
   ],
   "source": [
    "y_pred=np.where(log.predict_proba(x_test)[:,1]>0.15,1,0)\n",
    "cn=confusion_matrix(y_test,y_pred)\n",
    "cn=pd.DataFrame(cn,columns=['Predicted 0','Predicted 1'],index=['Actual 0','Actual 1'])\n",
    "cn"
   ]
  },
  {
   "cell_type": "code",
   "execution_count": 18,
   "metadata": {},
   "outputs": [
    {
     "data": {
      "text/plain": [
       "0.3726513569937369"
      ]
     },
     "execution_count": 18,
     "metadata": {},
     "output_type": "execute_result"
    }
   ],
   "source": [
    "f1_score(y_test,y_pred)"
   ]
  },
  {
   "cell_type": "code",
   "execution_count": 19,
   "metadata": {},
   "outputs": [
    {
     "name": "stdout",
     "output_type": "stream",
     "text": [
      "Kappa Score: 0.18018810658918694\n"
     ]
    }
   ],
   "source": [
    "print('Kappa Score:',cohen_kappa_score(y_test,y_pred))"
   ]
  },
  {
   "cell_type": "code",
   "execution_count": 20,
   "metadata": {},
   "outputs": [
    {
     "data": {
      "image/png": "[encoded data removed]",
      "text/plain": [
       "<Figure size 432x288 with 1 Axes>"
      ]
     },
     "metadata": {
      "needs_background": "light"
     },
     "output_type": "display_data"
    }
   ],
   "source": [
    "roc_auc=roc_auc_score(y_test,y_pred)\n",
    "plt.plot(fpr, tpr, color='darkorange', label='ROC curve (area = %0.2f)' % roc_auc)\n",
    "plt.plot([0, 1], [0, 1], color='navy', linestyle='--')\n",
    "plt.xlabel('False Positive Rate')\n",
    "plt.ylabel('True Positive Rate')\n",
    "plt.title('Receiver operating characteristic')\n",
    "plt.legend(loc=\"lower right\")\n",
    "plt.show()"
   ]
  },
  {
   "cell_type": "markdown",
   "metadata": {},
   "source": [
    "* Training accuracy is 84%\n",
    "* Testing accuracy is 84%\n",
    "* F1 score with optimum threshold is 37%"
   ]
  },
  {
   "cell_type": "markdown",
   "metadata": {},
   "source": [
    "### Decision Tree"
   ]
  },
  {
   "cell_type": "code",
   "execution_count": 21,
   "metadata": {},
   "outputs": [
    {
     "name": "stdout",
     "output_type": "stream",
     "text": [
      "Train score: 1.0\n",
      "Test score: 0.961\n"
     ]
    }
   ],
   "source": [
    "dt=DecisionTreeClassifier()\n",
    "dt.fit(x_train,y_train)\n",
    "print('Train score:',dt.score(x_train,y_train))\n",
    "print('Test score:',dt.score(x_test,y_test))"
   ]
  },
  {
   "cell_type": "code",
   "execution_count": 22,
   "metadata": {},
   "outputs": [
    {
     "name": "stdout",
     "output_type": "stream",
     "text": [
      "Optimum F1: 0.8729641693811075\n",
      "Optimum Threshold: 0.0\n"
     ]
    }
   ],
   "source": [
    "fpr,tpr,threholds=roc_curve(y_test,dt.predict_proba(x_test)[:,1])\n",
    "optF1=0\n",
    "optTh=0\n",
    "for th in threholds:\n",
    "    preds=np.where(dt.predict_proba(x_test)[:,1]>th,1,0)\n",
    "    f1=f1_score(y_test,preds)\n",
    "    if(optF1<f1):\n",
    "        optF1=f1\n",
    "        optTh=th\n",
    "print('Optimum F1:',optF1)\n",
    "print('Optimum Threshold:',optTh)"
   ]
  },
  {
   "cell_type": "code",
   "execution_count": 23,
   "metadata": {},
   "outputs": [
    {
     "data": {
      "text/html": [
       "<div>\n",
       "<style scoped>\n",
       "    .dataframe tbody tr th:only-of-type {\n",
       "        vertical-align: middle;\n",
       "    }\n",
       "\n",
       "    .dataframe tbody tr th {\n",
       "        vertical-align: top;\n",
       "    }\n",
       "\n",
       "    .dataframe thead th {\n",
       "        text-align: right;\n",
       "    }\n",
       "</style>\n",
       "<table border=\"1\" class=\"dataframe\">\n",
       "  <thead>\n",
       "    <tr style=\"text-align: right;\">\n",
       "      <th></th>\n",
       "      <th>Predicted 0</th>\n",
       "      <th>Predicted 1</th>\n",
       "    </tr>\n",
       "  </thead>\n",
       "  <tbody>\n",
       "    <tr>\n",
       "      <th>Actual 0</th>\n",
       "      <td>2481</td>\n",
       "      <td>54</td>\n",
       "    </tr>\n",
       "    <tr>\n",
       "      <th>Actual 1</th>\n",
       "      <td>63</td>\n",
       "      <td>402</td>\n",
       "    </tr>\n",
       "  </tbody>\n",
       "</table>\n",
       "</div>"
      ],
      "text/plain": [
       "          Predicted 0  Predicted 1\n",
       "Actual 0         2481           54\n",
       "Actual 1           63          402"
      ]
     },
     "execution_count": 23,
     "metadata": {},
     "output_type": "execute_result"
    }
   ],
   "source": [
    "y_pred=np.where(dt.predict_proba(x_test)[:,1]>0,1,0)\n",
    "cn=confusion_matrix(y_test,y_pred)\n",
    "cn=pd.DataFrame(cn,columns=['Predicted 0','Predicted 1'],index=['Actual 0','Actual 1'])\n",
    "cn"
   ]
  },
  {
   "cell_type": "code",
   "execution_count": 24,
   "metadata": {},
   "outputs": [
    {
     "data": {
      "text/plain": [
       "0.8729641693811075"
      ]
     },
     "execution_count": 24,
     "metadata": {},
     "output_type": "execute_result"
    }
   ],
   "source": [
    "f1_score(y_test,y_pred)"
   ]
  },
  {
   "cell_type": "code",
   "execution_count": 25,
   "metadata": {},
   "outputs": [
    {
     "name": "stdout",
     "output_type": "stream",
     "text": [
      "Kappa Score: 0.8499307372633523\n"
     ]
    }
   ],
   "source": [
    "print('Kappa Score:',cohen_kappa_score(y_test,y_pred))"
   ]
  },
  {
   "cell_type": "code",
   "execution_count": 26,
   "metadata": {},
   "outputs": [
    {
     "data": {
      "image/png": "[encoded data removed]",
      "text/plain": [
       "<Figure size 432x288 with 1 Axes>"
      ]
     },
     "metadata": {
      "needs_background": "light"
     },
     "output_type": "display_data"
    }
   ],
   "source": [
    "roc_auc=roc_auc_score(y_test,y_pred)\n",
    "plt.plot(fpr, tpr, color='darkorange', label='ROC curve (area = %0.2f)' % roc_auc)\n",
    "plt.plot([0, 1], [0, 1], color='navy', linestyle='--')\n",
    "plt.xlabel('False Positive Rate')\n",
    "plt.ylabel('True Positive Rate')\n",
    "plt.title('Receiver operating characteristic')\n",
    "plt.legend(loc=\"lower right\")\n",
    "plt.show()"
   ]
  },
  {
   "cell_type": "markdown",
   "metadata": {},
   "source": [
    "* Training accuracy is 100%\n",
    "* Testing accuracy is 96%\n",
    "* F1 score with optimum threshold is 87%"
   ]
  },
  {
   "cell_type": "markdown",
   "metadata": {},
   "source": [
    "### Random Forest"
   ]
  },
  {
   "cell_type": "code",
   "execution_count": 27,
   "metadata": {},
   "outputs": [
    {
     "name": "stdout",
     "output_type": "stream",
     "text": [
      "Train score: 0.9971428571428571\n",
      "Test score: 0.96\n"
     ]
    }
   ],
   "source": [
    "rf=RandomForestClassifier()\n",
    "rf.fit(x_train,y_train)\n",
    "print('Train score:',rf.score(x_train,y_train))\n",
    "print('Test score:',rf.score(x_test,y_test))"
   ]
  },
  {
   "cell_type": "code",
   "execution_count": 28,
   "metadata": {},
   "outputs": [
    {
     "name": "stdout",
     "output_type": "stream",
     "text": [
      "Optimum F1: 0.8898776418242491\n",
      "Optimum Threshold: 0.4\n"
     ]
    }
   ],
   "source": [
    "fpr,tpr,threholds=roc_curve(y_test,rf.predict_proba(x_test)[:,1])\n",
    "optF1=0\n",
    "optTh=0\n",
    "for th in threholds:\n",
    "    preds=np.where(rf.predict_proba(x_test)[:,1]>th,1,0)\n",
    "    f1=f1_score(y_test,preds)\n",
    "    if(optF1<f1):\n",
    "        optF1=f1\n",
    "        optTh=th\n",
    "print('Optimum F1:',optF1)\n",
    "print('Optimum Threshold:',optTh)"
   ]
  },
  {
   "cell_type": "code",
   "execution_count": 29,
   "metadata": {},
   "outputs": [
    {
     "data": {
      "text/html": [
       "<div>\n",
       "<style scoped>\n",
       "    .dataframe tbody tr th:only-of-type {\n",
       "        vertical-align: middle;\n",
       "    }\n",
       "\n",
       "    .dataframe tbody tr th {\n",
       "        vertical-align: top;\n",
       "    }\n",
       "\n",
       "    .dataframe thead th {\n",
       "        text-align: right;\n",
       "    }\n",
       "</style>\n",
       "<table border=\"1\" class=\"dataframe\">\n",
       "  <thead>\n",
       "    <tr style=\"text-align: right;\">\n",
       "      <th></th>\n",
       "      <th>Predicted 0</th>\n",
       "      <th>Predicted 1</th>\n",
       "    </tr>\n",
       "  </thead>\n",
       "  <tbody>\n",
       "    <tr>\n",
       "      <th>Actual 0</th>\n",
       "      <td>2463</td>\n",
       "      <td>72</td>\n",
       "    </tr>\n",
       "    <tr>\n",
       "      <th>Actual 1</th>\n",
       "      <td>43</td>\n",
       "      <td>422</td>\n",
       "    </tr>\n",
       "  </tbody>\n",
       "</table>\n",
       "</div>"
      ],
      "text/plain": [
       "          Predicted 0  Predicted 1\n",
       "Actual 0         2463           72\n",
       "Actual 1           43          422"
      ]
     },
     "execution_count": 29,
     "metadata": {},
     "output_type": "execute_result"
    }
   ],
   "source": [
    "y_pred=np.where(rf.predict_proba(x_test)[:,1]>0.3,1,0)\n",
    "cn=confusion_matrix(y_test,y_pred)\n",
    "cn=pd.DataFrame(cn,columns=['Predicted 0','Predicted 1'],index=['Actual 0','Actual 1'])\n",
    "cn"
   ]
  },
  {
   "cell_type": "code",
   "execution_count": 30,
   "metadata": {},
   "outputs": [
    {
     "data": {
      "text/plain": [
       "0.8800834202294056"
      ]
     },
     "execution_count": 30,
     "metadata": {},
     "output_type": "execute_result"
    }
   ],
   "source": [
    "f1_score(y_test,y_pred)"
   ]
  },
  {
   "cell_type": "code",
   "execution_count": 31,
   "metadata": {},
   "outputs": [
    {
     "name": "stdout",
     "output_type": "stream",
     "text": [
      "Kappa Score: 0.8572953118407663\n"
     ]
    }
   ],
   "source": [
    "print('Kappa Score:',cohen_kappa_score(y_test,y_pred))"
   ]
  },
  {
   "cell_type": "code",
   "execution_count": 32,
   "metadata": {},
   "outputs": [
    {
     "data": {
      "image/png": "[encoded data removed]",
      "text/plain": [
       "<Figure size 432x288 with 1 Axes>"
      ]
     },
     "metadata": {
      "needs_background": "light"
     },
     "output_type": "display_data"
    }
   ],
   "source": [
    "roc_auc=roc_auc_score(y_test,y_pred)\n",
    "plt.plot(fpr, tpr, color='darkorange', label='ROC curve (area = %0.2f)' % roc_auc)\n",
    "plt.plot([0, 1], [0, 1], color='navy', linestyle='--')\n",
    "plt.xlabel('False Positive Rate')\n",
    "plt.ylabel('True Positive Rate')\n",
    "plt.title('Receiver operating characteristic')\n",
    "plt.legend(loc=\"lower right\")\n",
    "plt.show()"
   ]
  },
  {
   "cell_type": "markdown",
   "metadata": {},
   "source": [
    "* Training accuracy is 99%\n",
    "* Testing accuracy is 96%\n",
    "* F1 score with optimum threshold is 89%"
   ]
  },
  {
   "cell_type": "markdown",
   "metadata": {},
   "source": [
    "### Boosting"
   ]
  },
  {
   "cell_type": "code",
   "execution_count": 33,
   "metadata": {},
   "outputs": [
    {
     "name": "stdout",
     "output_type": "stream",
     "text": [
      "Train score: 0.9901428571428571\n",
      "Test score: 0.9766666666666667\n"
     ]
    }
   ],
   "source": [
    "gbr=GradientBoostingClassifier()\n",
    "gbr.fit(x_train,y_train)\n",
    "print('Train score:',gbr.score(x_train,y_train))\n",
    "print('Test score:',gbr.score(x_test,y_test))"
   ]
  },
  {
   "cell_type": "code",
   "execution_count": 34,
   "metadata": {},
   "outputs": [
    {
     "name": "stdout",
     "output_type": "stream",
     "text": [
      "Optimum F1: 0.9250263991552271\n",
      "Optimum Threshold: 0.3618855170800892\n"
     ]
    }
   ],
   "source": [
    "fpr,tpr,threholds=roc_curve(y_test,gbr.predict_proba(x_test)[:,1])\n",
    "optF1=0\n",
    "optTh=0\n",
    "for th in threholds:\n",
    "    preds=np.where(gbr.predict_proba(x_test)[:,1]>th,1,0)\n",
    "    f1=f1_score(y_test,preds)\n",
    "    if(optF1<f1):\n",
    "        optF1=f1\n",
    "        optTh=th\n",
    "print('Optimum F1:',optF1)\n",
    "print('Optimum Threshold:',optTh)"
   ]
  },
  {
   "cell_type": "code",
   "execution_count": 35,
   "metadata": {},
   "outputs": [
    {
     "data": {
      "text/html": [
       "<div>\n",
       "<style scoped>\n",
       "    .dataframe tbody tr th:only-of-type {\n",
       "        vertical-align: middle;\n",
       "    }\n",
       "\n",
       "    .dataframe tbody tr th {\n",
       "        vertical-align: top;\n",
       "    }\n",
       "\n",
       "    .dataframe thead th {\n",
       "        text-align: right;\n",
       "    }\n",
       "</style>\n",
       "<table border=\"1\" class=\"dataframe\">\n",
       "  <thead>\n",
       "    <tr style=\"text-align: right;\">\n",
       "      <th></th>\n",
       "      <th>Predicted 0</th>\n",
       "      <th>Predicted 1</th>\n",
       "    </tr>\n",
       "  </thead>\n",
       "  <tbody>\n",
       "    <tr>\n",
       "      <th>Actual 0</th>\n",
       "      <td>2491</td>\n",
       "      <td>44</td>\n",
       "    </tr>\n",
       "    <tr>\n",
       "      <th>Actual 1</th>\n",
       "      <td>27</td>\n",
       "      <td>438</td>\n",
       "    </tr>\n",
       "  </tbody>\n",
       "</table>\n",
       "</div>"
      ],
      "text/plain": [
       "          Predicted 0  Predicted 1\n",
       "Actual 0         2491           44\n",
       "Actual 1           27          438"
      ]
     },
     "execution_count": 35,
     "metadata": {},
     "output_type": "execute_result"
    }
   ],
   "source": [
    "y_pred=np.where(gbr.predict_proba(x_test)[:,1]>optTh,1,0)\n",
    "cn=confusion_matrix(y_test,y_pred)\n",
    "cn=pd.DataFrame(cn,columns=['Predicted 0','Predicted 1'],index=['Actual 0','Actual 1'])\n",
    "cn"
   ]
  },
  {
   "cell_type": "code",
   "execution_count": 36,
   "metadata": {},
   "outputs": [
    {
     "data": {
      "text/plain": [
       "0.9250263991552271"
      ]
     },
     "execution_count": 36,
     "metadata": {},
     "output_type": "execute_result"
    }
   ],
   "source": [
    "f1_score(y_test,y_pred)"
   ]
  },
  {
   "cell_type": "code",
   "execution_count": 37,
   "metadata": {},
   "outputs": [
    {
     "name": "stdout",
     "output_type": "stream",
     "text": [
      "Kappa Score: 0.9109807166679205\n"
     ]
    }
   ],
   "source": [
    "print('Kappa Score:',cohen_kappa_score(y_test,y_pred))"
   ]
  },
  {
   "cell_type": "code",
   "execution_count": 38,
   "metadata": {},
   "outputs": [
    {
     "data": {
      "image/png": "[encoded data removed]",
      "text/plain": [
       "<Figure size 432x288 with 1 Axes>"
      ]
     },
     "metadata": {
      "needs_background": "light"
     },
     "output_type": "display_data"
    }
   ],
   "source": [
    "roc_auc=roc_auc_score(y_test,y_pred)\n",
    "plt.plot(fpr, tpr, color='darkorange', label='ROC curve (area = %0.2f)' % roc_auc)\n",
    "plt.plot([0, 1], [0, 1], color='navy', linestyle='--')\n",
    "plt.xlabel('False Positive Rate')\n",
    "plt.ylabel('True Positive Rate')\n",
    "plt.title('Receiver operating characteristic')\n",
    "plt.legend(loc=\"lower right\")\n",
    "plt.show()"
   ]
  },
  {
   "cell_type": "markdown",
   "metadata": {},
   "source": [
    "* Training accuracy is 99%\n",
    "* Testing accuracy is 97%\n",
    "* F1 score with optimum threshold is 92%"
   ]
  },
  {
   "cell_type": "markdown",
   "metadata": {},
   "source": [
    "### Naive Bayes"
   ]
  },
  {
   "cell_type": "code",
   "execution_count": 39,
   "metadata": {},
   "outputs": [],
   "source": [
    "from sklearn.naive_bayes import GaussianNB"
   ]
  },
  {
   "cell_type": "code",
   "execution_count": 40,
   "metadata": {},
   "outputs": [
    {
     "name": "stdout",
     "output_type": "stream",
     "text": [
      "Train score: 0.8492857142857143\n",
      "Test score: 0.8463333333333334\n"
     ]
    }
   ],
   "source": [
    "nb=GaussianNB()\n",
    "nb.fit(x_train,y_train)\n",
    "print('Train score:',nb.score(x_train,y_train))\n",
    "print('Test score:',nb.score(x_test,y_test))"
   ]
  },
  {
   "cell_type": "code",
   "execution_count": 41,
   "metadata": {},
   "outputs": [
    {
     "name": "stdout",
     "output_type": "stream",
     "text": [
      "Optimum F1: 0.5019485580670304\n",
      "Optimum Threshold: 0.2903702212913427\n"
     ]
    }
   ],
   "source": [
    "fpr,tpr,threholds=roc_curve(y_test,nb.predict_proba(x_test)[:,1])\n",
    "optF1=0\n",
    "optTh=0\n",
    "for th in threholds:\n",
    "    preds=np.where(nb.predict_proba(x_test)[:,1]>th,1,0)\n",
    "    f1=f1_score(y_test,preds)\n",
    "    if(optF1<f1):\n",
    "        optF1=f1\n",
    "        optTh=th\n",
    "print('Optimum F1:',optF1)\n",
    "print('Optimum Threshold:',optTh)"
   ]
  },
  {
   "cell_type": "code",
   "execution_count": 42,
   "metadata": {},
   "outputs": [
    {
     "data": {
      "text/html": [
       "<div>\n",
       "<style scoped>\n",
       "    .dataframe tbody tr th:only-of-type {\n",
       "        vertical-align: middle;\n",
       "    }\n",
       "\n",
       "    .dataframe tbody tr th {\n",
       "        vertical-align: top;\n",
       "    }\n",
       "\n",
       "    .dataframe thead th {\n",
       "        text-align: right;\n",
       "    }\n",
       "</style>\n",
       "<table border=\"1\" class=\"dataframe\">\n",
       "  <thead>\n",
       "    <tr style=\"text-align: right;\">\n",
       "      <th></th>\n",
       "      <th>Predicted 0</th>\n",
       "      <th>Predicted 1</th>\n",
       "    </tr>\n",
       "  </thead>\n",
       "  <tbody>\n",
       "    <tr>\n",
       "      <th>Actual 0</th>\n",
       "      <td>2039</td>\n",
       "      <td>496</td>\n",
       "    </tr>\n",
       "    <tr>\n",
       "      <th>Actual 1</th>\n",
       "      <td>143</td>\n",
       "      <td>322</td>\n",
       "    </tr>\n",
       "  </tbody>\n",
       "</table>\n",
       "</div>"
      ],
      "text/plain": [
       "          Predicted 0  Predicted 1\n",
       "Actual 0         2039          496\n",
       "Actual 1          143          322"
      ]
     },
     "execution_count": 42,
     "metadata": {},
     "output_type": "execute_result"
    }
   ],
   "source": [
    "y_pred=np.where(nb.predict_proba(x_test)[:,1]>optTh,1,0)\n",
    "cn=confusion_matrix(y_test,y_pred)\n",
    "cn=pd.DataFrame(cn,columns=['Predicted 0','Predicted 1'],index=['Actual 0','Actual 1'])\n",
    "cn"
   ]
  },
  {
   "cell_type": "code",
   "execution_count": 43,
   "metadata": {},
   "outputs": [
    {
     "data": {
      "text/plain": [
       "0.5019485580670304"
      ]
     },
     "execution_count": 43,
     "metadata": {},
     "output_type": "execute_result"
    }
   ],
   "source": [
    "f1_score(y_test,y_pred)"
   ]
  },
  {
   "cell_type": "code",
   "execution_count": 44,
   "metadata": {},
   "outputs": [
    {
     "name": "stdout",
     "output_type": "stream",
     "text": [
      "Kappa Score: 0.3792621087602728\n"
     ]
    }
   ],
   "source": [
    "print('Kappa Score:',cohen_kappa_score(y_test,y_pred))"
   ]
  },
  {
   "cell_type": "code",
   "execution_count": 45,
   "metadata": {},
   "outputs": [
    {
     "data": {
      "image/png": "[encoded data removed]",
      "text/plain": [
       "<Figure size 432x288 with 1 Axes>"
      ]
     },
     "metadata": {
      "needs_background": "light"
     },
     "output_type": "display_data"
    }
   ],
   "source": [
    "roc_auc=roc_auc_score(y_test,y_pred)\n",
    "plt.plot(fpr, tpr, color='darkorange', label='ROC curve (area = %0.2f)' % roc_auc)\n",
    "plt.plot([0, 1], [0, 1], color='navy', linestyle='--')\n",
    "plt.xlabel('False Positive Rate')\n",
    "plt.ylabel('True Positive Rate')\n",
    "plt.title('Receiver operating characteristic')\n",
    "plt.legend(loc=\"lower right\")\n",
    "plt.show()"
   ]
  },
  {
   "cell_type": "markdown",
   "metadata": {},
   "source": [
    "* Training accuracy is 84%\n",
    "* Testing accuracy is 84%\n",
    "* F1 score with optimum threshold is 50%"
   ]
  },
  {
   "cell_type": "markdown",
   "metadata": {},
   "source": [
    "### KNN"
   ]
  },
  {
   "cell_type": "code",
   "execution_count": 46,
   "metadata": {},
   "outputs": [
    {
     "data": {
      "image/png": "[encoded data removed]",
      "text/plain": [
       "<Figure size 432x288 with 1 Axes>"
      ]
     },
     "metadata": {
      "needs_background": "light"
     },
     "output_type": "display_data"
    }
   ],
   "source": [
    "neighbors = np.arange(1, 20)\n",
    "train_accuracy_plot = np.empty(len(neighbors))\n",
    "test_accuracy_plot = np.empty(len(neighbors))\n",
    "# Loop over different values of k\n",
    "sc=StandardScaler()\n",
    "scaledX_train = sc.fit_transform(x_train)\n",
    "scaledX_test = sc.transform(x_test)\n",
    "for i, k in enumerate(neighbors):\n",
    "    knn = KNeighborsClassifier(n_neighbors=k)\n",
    "    knn.fit(scaledX_train,y_train)\n",
    "    train_accuracy_plot[i] = knn.score(scaledX_train,y_train)\n",
    "    test_accuracy_plot[i] = knn.score(scaledX_test,y_test)\n",
    "# Generate plot\n",
    "plt.title('k-NN: Varying Number of Neighbors')\n",
    "plt.plot(neighbors, test_accuracy_plot, label = 'Testing Accuracy')\n",
    "plt.plot(neighbors, train_accuracy_plot, label = 'Training Accuracy')\n",
    "plt.legend()\n",
    "plt.xlabel('Number of Neighbors')\n",
    "plt.ylabel('Accuracy')\n",
    "plt.show()"
   ]
  },
  {
   "cell_type": "code",
   "execution_count": 47,
   "metadata": {},
   "outputs": [
    {
     "name": "stdout",
     "output_type": "stream",
     "text": [
      "Train score: 0.8527142857142858\n",
      "Test score: 0.8346666666666667\n"
     ]
    }
   ],
   "source": [
    "knn=KNeighborsClassifier(n_neighbors=9)\n",
    "knn.fit(x_train,y_train)\n",
    "print('Train score:',knn.score(x_train,y_train))\n",
    "print('Test score:',knn.score(x_test,y_test))"
   ]
  },
  {
   "cell_type": "code",
   "execution_count": 48,
   "metadata": {},
   "outputs": [
    {
     "name": "stdout",
     "output_type": "stream",
     "text": [
      "Optimum F1: 0.3345543345543346\n",
      "Optimum Threshold: 0.1111111111111111\n"
     ]
    }
   ],
   "source": [
    "fpr,tpr,threholds=roc_curve(y_test,knn.predict_proba(x_test)[:,1])\n",
    "optF1=0\n",
    "optTh=0\n",
    "for th in threholds:\n",
    "    preds=np.where(knn.predict_proba(x_test)[:,1]>th,1,0)\n",
    "    f1=f1_score(y_test,preds)\n",
    "    if(optF1<f1):\n",
    "        optF1=f1\n",
    "        optTh=th\n",
    "print('Optimum F1:',optF1)\n",
    "print('Optimum Threshold:',optTh)\n"
   ]
  },
  {
   "cell_type": "code",
   "execution_count": 49,
   "metadata": {},
   "outputs": [
    {
     "data": {
      "text/html": [
       "<div>\n",
       "<style scoped>\n",
       "    .dataframe tbody tr th:only-of-type {\n",
       "        vertical-align: middle;\n",
       "    }\n",
       "\n",
       "    .dataframe tbody tr th {\n",
       "        vertical-align: top;\n",
       "    }\n",
       "\n",
       "    .dataframe thead th {\n",
       "        text-align: right;\n",
       "    }\n",
       "</style>\n",
       "<table border=\"1\" class=\"dataframe\">\n",
       "  <thead>\n",
       "    <tr style=\"text-align: right;\">\n",
       "      <th></th>\n",
       "      <th>Predicted 0</th>\n",
       "      <th>Predicted 1</th>\n",
       "    </tr>\n",
       "  </thead>\n",
       "  <tbody>\n",
       "    <tr>\n",
       "      <th>Actual 0</th>\n",
       "      <td>1636</td>\n",
       "      <td>899</td>\n",
       "    </tr>\n",
       "    <tr>\n",
       "      <th>Actual 1</th>\n",
       "      <td>191</td>\n",
       "      <td>274</td>\n",
       "    </tr>\n",
       "  </tbody>\n",
       "</table>\n",
       "</div>"
      ],
      "text/plain": [
       "          Predicted 0  Predicted 1\n",
       "Actual 0         1636          899\n",
       "Actual 1          191          274"
      ]
     },
     "execution_count": 49,
     "metadata": {},
     "output_type": "execute_result"
    }
   ],
   "source": [
    "y_pred=np.where(knn.predict_proba(x_test)[:,1]>optTh,1,0)\n",
    "cn=confusion_matrix(y_test,y_pred)\n",
    "cn=pd.DataFrame(cn,columns=['Predicted 0','Predicted 1'],index=['Actual 0','Actual 1'])\n",
    "cn"
   ]
  },
  {
   "cell_type": "code",
   "execution_count": 50,
   "metadata": {},
   "outputs": [
    {
     "data": {
      "text/plain": [
       "0.3345543345543346"
      ]
     },
     "execution_count": 50,
     "metadata": {},
     "output_type": "execute_result"
    }
   ],
   "source": [
    "f1_score(y_test,y_pred)"
   ]
  },
  {
   "cell_type": "code",
   "execution_count": 51,
   "metadata": {},
   "outputs": [
    {
     "name": "stdout",
     "output_type": "stream",
     "text": [
      "Kappa Score: 0.1446754082409346\n"
     ]
    }
   ],
   "source": [
    "print('Kappa Score:',cohen_kappa_score(y_test,y_pred))"
   ]
  },
  {
   "cell_type": "code",
   "execution_count": 52,
   "metadata": {},
   "outputs": [
    {
     "data": {
      "text/plain": [
       "<matplotlib.legend.Legend at 0x258bac7f128>"
      ]
     },
     "execution_count": 52,
     "metadata": {},
     "output_type": "execute_result"
    },
    {
     "data": {
      "image/png": "[encoded data removed]",
      "text/plain": [
       "<Figure size 432x288 with 1 Axes>"
      ]
     },
     "metadata": {
      "needs_background": "light"
     },
     "output_type": "display_data"
    }
   ],
   "source": [
    "roc_auc=roc_auc_score(y_test,y_pred)\n",
    "plt.plot(fpr, tpr, color='darkorange', label='ROC curve (area = %0.2f)' % roc_auc)\n",
    "plt.plot([0, 1], [0, 1], color='navy', linestyle='--')\n",
    "plt.xlabel('False Positive Rate')\n",
    "plt.ylabel('True Positive Rate')\n",
    "plt.title('Receiver operating characteristic')\n",
    "plt.legend(loc=\"lower right\")"
   ]
  },
  {
   "cell_type": "markdown",
   "metadata": {},
   "source": [
    "* Training accuracy is 85%\n",
    "* Testing accuracy is 83%\n",
    "* F1 score with optimum threshold is 33%"
   ]
  },
  {
   "cell_type": "markdown",
   "metadata": {},
   "source": [
    "### Conclusion"
   ]
  },
  {
   "cell_type": "markdown",
   "metadata": {},
   "source": [
    "* KNN gives Training accuracy as 85%, Testing accuracy as 83% and F1 score with optimum threshold is 33%\n",
    "* Naive Bayes gives Training accuracy as 84%, Testing accuracy as 84% and F1 score with optimum threshold is 50%\n",
    "* Logistic gives Training accuracy as 84%, Testing accuracy as 84% and F1 score with optimum threshold is 37%\n",
    "* Decision Tree gives Training accuracy as 100%, Testing accuracy as 96% and F1 score with optimum threshold is 87%\n",
    "* Random Forest gives Training accuracy as 99%, Testing accuracy as 96% and F1 score with optimum threshold is 89%\n",
    "* Gradient Boosting gives Training accuracy as 99%, Testing accuracy as 97% and F1 score with optimum threshold is 92%\n",
    "* Also the Kappa Score was highest for Gradient Boosting\n",
    "* By comparing all models we found that GradientBoosting gives best accuracy and F1 score for our data set. Thus GradientBoosting will be our final model"
   ]
  },
  {
   "cell_type": "markdown",
   "metadata": {},
   "source": [
    "### Predicting using Gradient Boosting"
   ]
  },
  {
   "cell_type": "code",
   "execution_count": 53,
   "metadata": {},
   "outputs": [
    {
     "data": {
      "text/html": [
       "<div>\n",
       "<style scoped>\n",
       "    .dataframe tbody tr th:only-of-type {\n",
       "        vertical-align: middle;\n",
       "    }\n",
       "\n",
       "    .dataframe tbody tr th {\n",
       "        vertical-align: top;\n",
       "    }\n",
       "\n",
       "    .dataframe thead th {\n",
       "        text-align: right;\n",
       "    }\n",
       "</style>\n",
       "<table border=\"1\" class=\"dataframe\">\n",
       "  <thead>\n",
       "    <tr style=\"text-align: right;\">\n",
       "      <th></th>\n",
       "      <th>customer_id</th>\n",
       "      <th>demographic_slice</th>\n",
       "      <th>country_reg</th>\n",
       "      <th>ad_exp</th>\n",
       "      <th>est_income</th>\n",
       "      <th>hold_bal</th>\n",
       "      <th>pref_cust_prob</th>\n",
       "      <th>imp_cscore</th>\n",
       "      <th>RiskScore</th>\n",
       "      <th>imp_crediteval</th>\n",
       "      <th>axio_score</th>\n",
       "      <th>card_offer</th>\n",
       "    </tr>\n",
       "  </thead>\n",
       "  <tbody>\n",
       "    <tr>\n",
       "      <th>0</th>\n",
       "      <td>596723</td>\n",
       "      <td>AX03efs</td>\n",
       "      <td>W</td>\n",
       "      <td>N</td>\n",
       "      <td>26323.092375</td>\n",
       "      <td>3.000000</td>\n",
       "      <td>0.461364</td>\n",
       "      <td>603</td>\n",
       "      <td>505.509062</td>\n",
       "      <td>23.806688</td>\n",
       "      <td>0.351222</td>\n",
       "      <td>NaN</td>\n",
       "    </tr>\n",
       "    <tr>\n",
       "      <th>1</th>\n",
       "      <td>841834</td>\n",
       "      <td>AX03efs</td>\n",
       "      <td>E</td>\n",
       "      <td>Y</td>\n",
       "      <td>67374.621654</td>\n",
       "      <td>17.861095</td>\n",
       "      <td>0.473517</td>\n",
       "      <td>650</td>\n",
       "      <td>466.158076</td>\n",
       "      <td>26.068803</td>\n",
       "      <td>0.080106</td>\n",
       "      <td>NaN</td>\n",
       "    </tr>\n",
       "    <tr>\n",
       "      <th>2</th>\n",
       "      <td>402401</td>\n",
       "      <td>AX03efs</td>\n",
       "      <td>E</td>\n",
       "      <td>N</td>\n",
       "      <td>1728.369713</td>\n",
       "      <td>21.604489</td>\n",
       "      <td>0.486220</td>\n",
       "      <td>606</td>\n",
       "      <td>603.346280</td>\n",
       "      <td>23.628955</td>\n",
       "      <td>0.208180</td>\n",
       "      <td>NaN</td>\n",
       "    </tr>\n",
       "    <tr>\n",
       "      <th>3</th>\n",
       "      <td>734431</td>\n",
       "      <td>AX03efs</td>\n",
       "      <td>E</td>\n",
       "      <td>Y</td>\n",
       "      <td>15814.210261</td>\n",
       "      <td>22.058403</td>\n",
       "      <td>0.462249</td>\n",
       "      <td>530</td>\n",
       "      <td>747.158221</td>\n",
       "      <td>22.533957</td>\n",
       "      <td>0.080122</td>\n",
       "      <td>NaN</td>\n",
       "    </tr>\n",
       "    <tr>\n",
       "      <th>4</th>\n",
       "      <td>739547</td>\n",
       "      <td>AX03efs</td>\n",
       "      <td>W</td>\n",
       "      <td>Y</td>\n",
       "      <td>45233.588193</td>\n",
       "      <td>1.000000</td>\n",
       "      <td>0.541660</td>\n",
       "      <td>640</td>\n",
       "      <td>704.781194</td>\n",
       "      <td>24.298782</td>\n",
       "      <td>0.667270</td>\n",
       "      <td>NaN</td>\n",
       "    </tr>\n",
       "  </tbody>\n",
       "</table>\n",
       "</div>"
      ],
      "text/plain": [
       "   customer_id demographic_slice country_reg ad_exp    est_income   hold_bal  \\\n",
       "0       596723           AX03efs           W      N  26323.092375   3.000000   \n",
       "1       841834           AX03efs           E      Y  67374.621654  17.861095   \n",
       "2       402401           AX03efs           E      N   1728.369713  21.604489   \n",
       "3       734431           AX03efs           E      Y  15814.210261  22.058403   \n",
       "4       739547           AX03efs           W      Y  45233.588193   1.000000   \n",
       "\n",
       "   pref_cust_prob  imp_cscore   RiskScore  imp_crediteval  axio_score  \\\n",
       "0        0.461364         603  505.509062       23.806688    0.351222   \n",
       "1        0.473517         650  466.158076       26.068803    0.080106   \n",
       "2        0.486220         606  603.346280       23.628955    0.208180   \n",
       "3        0.462249         530  747.158221       22.533957    0.080122   \n",
       "4        0.541660         640  704.781194       24.298782    0.667270   \n",
       "\n",
       "   card_offer  \n",
       "0         NaN  \n",
       "1         NaN  \n",
       "2         NaN  \n",
       "3         NaN  \n",
       "4         NaN  "
      ]
     },
     "execution_count": 53,
     "metadata": {},
     "output_type": "execute_result"
    }
   ],
   "source": [
    "test=pd.read_csv('Test 2.csv')\n",
    "test.head()"
   ]
  },
  {
   "cell_type": "code",
   "execution_count": 54,
   "metadata": {},
   "outputs": [
    {
     "data": {
      "text/plain": [
       "(10000, 12)"
      ]
     },
     "execution_count": 54,
     "metadata": {},
     "output_type": "execute_result"
    }
   ],
   "source": [
    "test.shape"
   ]
  },
  {
   "cell_type": "code",
   "execution_count": 55,
   "metadata": {},
   "outputs": [
    {
     "data": {
      "text/plain": [
       "customer_id              0\n",
       "demographic_slice        0\n",
       "country_reg              0\n",
       "ad_exp                   0\n",
       "est_income               0\n",
       "hold_bal                 0\n",
       "pref_cust_prob           0\n",
       "imp_cscore               0\n",
       "RiskScore                0\n",
       "imp_crediteval           0\n",
       "axio_score               0\n",
       "card_offer           10000\n",
       "dtype: int64"
      ]
     },
     "execution_count": 55,
     "metadata": {},
     "output_type": "execute_result"
    }
   ],
   "source": [
    "test.isnull().sum()"
   ]
  },
  {
   "cell_type": "code",
   "execution_count": 56,
   "metadata": {},
   "outputs": [
    {
     "data": {
      "text/html": [
       "<div>\n",
       "<style scoped>\n",
       "    .dataframe tbody tr th:only-of-type {\n",
       "        vertical-align: middle;\n",
       "    }\n",
       "\n",
       "    .dataframe tbody tr th {\n",
       "        vertical-align: top;\n",
       "    }\n",
       "\n",
       "    .dataframe thead th {\n",
       "        text-align: right;\n",
       "    }\n",
       "</style>\n",
       "<table border=\"1\" class=\"dataframe\">\n",
       "  <thead>\n",
       "    <tr style=\"text-align: right;\">\n",
       "      <th></th>\n",
       "      <th>customer_id</th>\n",
       "      <th>est_income</th>\n",
       "      <th>hold_bal</th>\n",
       "      <th>pref_cust_prob</th>\n",
       "      <th>imp_cscore</th>\n",
       "      <th>RiskScore</th>\n",
       "      <th>imp_crediteval</th>\n",
       "      <th>axio_score</th>\n",
       "      <th>card_offer</th>\n",
       "      <th>demographic_slice_AX03efs</th>\n",
       "      <th>demographic_slice_BWEsk45</th>\n",
       "      <th>demographic_slice_CARDIF2</th>\n",
       "      <th>demographic_slice_DERS3w5</th>\n",
       "      <th>ad_exp_N</th>\n",
       "      <th>ad_exp_Y</th>\n",
       "      <th>country_reg_E</th>\n",
       "      <th>country_reg_W</th>\n",
       "    </tr>\n",
       "  </thead>\n",
       "  <tbody>\n",
       "    <tr>\n",
       "      <th>0</th>\n",
       "      <td>596723</td>\n",
       "      <td>26323.092375</td>\n",
       "      <td>3.000000</td>\n",
       "      <td>0.461364</td>\n",
       "      <td>603</td>\n",
       "      <td>505.509062</td>\n",
       "      <td>23.806688</td>\n",
       "      <td>0.351222</td>\n",
       "      <td>NaN</td>\n",
       "      <td>1</td>\n",
       "      <td>0</td>\n",
       "      <td>0</td>\n",
       "      <td>0</td>\n",
       "      <td>1</td>\n",
       "      <td>0</td>\n",
       "      <td>0</td>\n",
       "      <td>1</td>\n",
       "    </tr>\n",
       "    <tr>\n",
       "      <th>1</th>\n",
       "      <td>841834</td>\n",
       "      <td>67374.621654</td>\n",
       "      <td>17.861095</td>\n",
       "      <td>0.473517</td>\n",
       "      <td>650</td>\n",
       "      <td>466.158076</td>\n",
       "      <td>26.068803</td>\n",
       "      <td>0.080106</td>\n",
       "      <td>NaN</td>\n",
       "      <td>1</td>\n",
       "      <td>0</td>\n",
       "      <td>0</td>\n",
       "      <td>0</td>\n",
       "      <td>0</td>\n",
       "      <td>1</td>\n",
       "      <td>1</td>\n",
       "      <td>0</td>\n",
       "    </tr>\n",
       "    <tr>\n",
       "      <th>2</th>\n",
       "      <td>402401</td>\n",
       "      <td>1728.369713</td>\n",
       "      <td>21.604489</td>\n",
       "      <td>0.486220</td>\n",
       "      <td>606</td>\n",
       "      <td>603.346280</td>\n",
       "      <td>23.628955</td>\n",
       "      <td>0.208180</td>\n",
       "      <td>NaN</td>\n",
       "      <td>1</td>\n",
       "      <td>0</td>\n",
       "      <td>0</td>\n",
       "      <td>0</td>\n",
       "      <td>1</td>\n",
       "      <td>0</td>\n",
       "      <td>1</td>\n",
       "      <td>0</td>\n",
       "    </tr>\n",
       "    <tr>\n",
       "      <th>3</th>\n",
       "      <td>734431</td>\n",
       "      <td>15814.210261</td>\n",
       "      <td>22.058403</td>\n",
       "      <td>0.462249</td>\n",
       "      <td>530</td>\n",
       "      <td>747.158221</td>\n",
       "      <td>22.533957</td>\n",
       "      <td>0.080122</td>\n",
       "      <td>NaN</td>\n",
       "      <td>1</td>\n",
       "      <td>0</td>\n",
       "      <td>0</td>\n",
       "      <td>0</td>\n",
       "      <td>0</td>\n",
       "      <td>1</td>\n",
       "      <td>1</td>\n",
       "      <td>0</td>\n",
       "    </tr>\n",
       "    <tr>\n",
       "      <th>4</th>\n",
       "      <td>739547</td>\n",
       "      <td>45233.588193</td>\n",
       "      <td>1.000000</td>\n",
       "      <td>0.541660</td>\n",
       "      <td>640</td>\n",
       "      <td>704.781194</td>\n",
       "      <td>24.298782</td>\n",
       "      <td>0.667270</td>\n",
       "      <td>NaN</td>\n",
       "      <td>1</td>\n",
       "      <td>0</td>\n",
       "      <td>0</td>\n",
       "      <td>0</td>\n",
       "      <td>0</td>\n",
       "      <td>1</td>\n",
       "      <td>0</td>\n",
       "      <td>1</td>\n",
       "    </tr>\n",
       "  </tbody>\n",
       "</table>\n",
       "</div>"
      ],
      "text/plain": [
       "   customer_id    est_income   hold_bal  pref_cust_prob  imp_cscore  \\\n",
       "0       596723  26323.092375   3.000000        0.461364         603   \n",
       "1       841834  67374.621654  17.861095        0.473517         650   \n",
       "2       402401   1728.369713  21.604489        0.486220         606   \n",
       "3       734431  15814.210261  22.058403        0.462249         530   \n",
       "4       739547  45233.588193   1.000000        0.541660         640   \n",
       "\n",
       "    RiskScore  imp_crediteval  axio_score  card_offer  \\\n",
       "0  505.509062       23.806688    0.351222         NaN   \n",
       "1  466.158076       26.068803    0.080106         NaN   \n",
       "2  603.346280       23.628955    0.208180         NaN   \n",
       "3  747.158221       22.533957    0.080122         NaN   \n",
       "4  704.781194       24.298782    0.667270         NaN   \n",
       "\n",
       "   demographic_slice_AX03efs  demographic_slice_BWEsk45  \\\n",
       "0                          1                          0   \n",
       "1                          1                          0   \n",
       "2                          1                          0   \n",
       "3                          1                          0   \n",
       "4                          1                          0   \n",
       "\n",
       "   demographic_slice_CARDIF2  demographic_slice_DERS3w5  ad_exp_N  ad_exp_Y  \\\n",
       "0                          0                          0         1         0   \n",
       "1                          0                          0         0         1   \n",
       "2                          0                          0         1         0   \n",
       "3                          0                          0         0         1   \n",
       "4                          0                          0         0         1   \n",
       "\n",
       "   country_reg_E  country_reg_W  \n",
       "0              0              1  \n",
       "1              1              0  \n",
       "2              1              0  \n",
       "3              1              0  \n",
       "4              0              1  "
      ]
     },
     "execution_count": 56,
     "metadata": {},
     "output_type": "execute_result"
    }
   ],
   "source": [
    "test=pd.get_dummies(test,columns=['demographic_slice','ad_exp','country_reg'])\n",
    "test.head()"
   ]
  },
  {
   "cell_type": "code",
   "execution_count": 57,
   "metadata": {},
   "outputs": [],
   "source": [
    "X=test.drop(['customer_id','card_offer'],axis=1)\n",
    "optTh=0.3618855170800892"
   ]
  },
  {
   "cell_type": "code",
   "execution_count": 58,
   "metadata": {},
   "outputs": [],
   "source": [
    "Y_pred=np.where(gbr.predict_proba(X)[:,1]>optTh,1,0)"
   ]
  },
  {
   "cell_type": "code",
   "execution_count": 59,
   "metadata": {},
   "outputs": [
    {
     "data": {
      "text/plain": [
       "(10000,)"
      ]
     },
     "execution_count": 59,
     "metadata": {},
     "output_type": "execute_result"
    }
   ],
   "source": [
    "Y_pred.shape"
   ]
  },
  {
   "cell_type": "code",
   "execution_count": 60,
   "metadata": {},
   "outputs": [
    {
     "data": {
      "text/html": [
       "<div>\n",
       "<style scoped>\n",
       "    .dataframe tbody tr th:only-of-type {\n",
       "        vertical-align: middle;\n",
       "    }\n",
       "\n",
       "    .dataframe tbody tr th {\n",
       "        vertical-align: top;\n",
       "    }\n",
       "\n",
       "    .dataframe thead th {\n",
       "        text-align: right;\n",
       "    }\n",
       "</style>\n",
       "<table border=\"1\" class=\"dataframe\">\n",
       "  <thead>\n",
       "    <tr style=\"text-align: right;\">\n",
       "      <th></th>\n",
       "      <th>customer_id</th>\n",
       "      <th>est_income</th>\n",
       "      <th>hold_bal</th>\n",
       "      <th>pref_cust_prob</th>\n",
       "      <th>imp_cscore</th>\n",
       "      <th>RiskScore</th>\n",
       "      <th>imp_crediteval</th>\n",
       "      <th>axio_score</th>\n",
       "      <th>card_offer</th>\n",
       "      <th>demographic_slice_AX03efs</th>\n",
       "      <th>demographic_slice_BWEsk45</th>\n",
       "      <th>demographic_slice_CARDIF2</th>\n",
       "      <th>demographic_slice_DERS3w5</th>\n",
       "      <th>ad_exp_N</th>\n",
       "      <th>ad_exp_Y</th>\n",
       "      <th>country_reg_E</th>\n",
       "      <th>country_reg_W</th>\n",
       "    </tr>\n",
       "  </thead>\n",
       "  <tbody>\n",
       "    <tr>\n",
       "      <th>0</th>\n",
       "      <td>596723</td>\n",
       "      <td>26323.092375</td>\n",
       "      <td>3.000000</td>\n",
       "      <td>0.461364</td>\n",
       "      <td>603</td>\n",
       "      <td>505.509062</td>\n",
       "      <td>23.806688</td>\n",
       "      <td>0.351222</td>\n",
       "      <td>False</td>\n",
       "      <td>1</td>\n",
       "      <td>0</td>\n",
       "      <td>0</td>\n",
       "      <td>0</td>\n",
       "      <td>1</td>\n",
       "      <td>0</td>\n",
       "      <td>0</td>\n",
       "      <td>1</td>\n",
       "    </tr>\n",
       "    <tr>\n",
       "      <th>1</th>\n",
       "      <td>841834</td>\n",
       "      <td>67374.621654</td>\n",
       "      <td>17.861095</td>\n",
       "      <td>0.473517</td>\n",
       "      <td>650</td>\n",
       "      <td>466.158076</td>\n",
       "      <td>26.068803</td>\n",
       "      <td>0.080106</td>\n",
       "      <td>False</td>\n",
       "      <td>1</td>\n",
       "      <td>0</td>\n",
       "      <td>0</td>\n",
       "      <td>0</td>\n",
       "      <td>0</td>\n",
       "      <td>1</td>\n",
       "      <td>1</td>\n",
       "      <td>0</td>\n",
       "    </tr>\n",
       "    <tr>\n",
       "      <th>2</th>\n",
       "      <td>402401</td>\n",
       "      <td>1728.369713</td>\n",
       "      <td>21.604489</td>\n",
       "      <td>0.486220</td>\n",
       "      <td>606</td>\n",
       "      <td>603.346280</td>\n",
       "      <td>23.628955</td>\n",
       "      <td>0.208180</td>\n",
       "      <td>False</td>\n",
       "      <td>1</td>\n",
       "      <td>0</td>\n",
       "      <td>0</td>\n",
       "      <td>0</td>\n",
       "      <td>1</td>\n",
       "      <td>0</td>\n",
       "      <td>1</td>\n",
       "      <td>0</td>\n",
       "    </tr>\n",
       "    <tr>\n",
       "      <th>3</th>\n",
       "      <td>734431</td>\n",
       "      <td>15814.210261</td>\n",
       "      <td>22.058403</td>\n",
       "      <td>0.462249</td>\n",
       "      <td>530</td>\n",
       "      <td>747.158221</td>\n",
       "      <td>22.533957</td>\n",
       "      <td>0.080122</td>\n",
       "      <td>False</td>\n",
       "      <td>1</td>\n",
       "      <td>0</td>\n",
       "      <td>0</td>\n",
       "      <td>0</td>\n",
       "      <td>0</td>\n",
       "      <td>1</td>\n",
       "      <td>1</td>\n",
       "      <td>0</td>\n",
       "    </tr>\n",
       "    <tr>\n",
       "      <th>4</th>\n",
       "      <td>739547</td>\n",
       "      <td>45233.588193</td>\n",
       "      <td>1.000000</td>\n",
       "      <td>0.541660</td>\n",
       "      <td>640</td>\n",
       "      <td>704.781194</td>\n",
       "      <td>24.298782</td>\n",
       "      <td>0.667270</td>\n",
       "      <td>False</td>\n",
       "      <td>1</td>\n",
       "      <td>0</td>\n",
       "      <td>0</td>\n",
       "      <td>0</td>\n",
       "      <td>0</td>\n",
       "      <td>1</td>\n",
       "      <td>0</td>\n",
       "      <td>1</td>\n",
       "    </tr>\n",
       "  </tbody>\n",
       "</table>\n",
       "</div>"
      ],
      "text/plain": [
       "   customer_id    est_income   hold_bal  pref_cust_prob  imp_cscore  \\\n",
       "0       596723  26323.092375   3.000000        0.461364         603   \n",
       "1       841834  67374.621654  17.861095        0.473517         650   \n",
       "2       402401   1728.369713  21.604489        0.486220         606   \n",
       "3       734431  15814.210261  22.058403        0.462249         530   \n",
       "4       739547  45233.588193   1.000000        0.541660         640   \n",
       "\n",
       "    RiskScore  imp_crediteval  axio_score  card_offer  \\\n",
       "0  505.509062       23.806688    0.351222       False   \n",
       "1  466.158076       26.068803    0.080106       False   \n",
       "2  603.346280       23.628955    0.208180       False   \n",
       "3  747.158221       22.533957    0.080122       False   \n",
       "4  704.781194       24.298782    0.667270       False   \n",
       "\n",
       "   demographic_slice_AX03efs  demographic_slice_BWEsk45  \\\n",
       "0                          1                          0   \n",
       "1                          1                          0   \n",
       "2                          1                          0   \n",
       "3                          1                          0   \n",
       "4                          1                          0   \n",
       "\n",
       "   demographic_slice_CARDIF2  demographic_slice_DERS3w5  ad_exp_N  ad_exp_Y  \\\n",
       "0                          0                          0         1         0   \n",
       "1                          0                          0         0         1   \n",
       "2                          0                          0         1         0   \n",
       "3                          0                          0         0         1   \n",
       "4                          0                          0         0         1   \n",
       "\n",
       "   country_reg_E  country_reg_W  \n",
       "0              0              1  \n",
       "1              1              0  \n",
       "2              1              0  \n",
       "3              1              0  \n",
       "4              0              1  "
      ]
     },
     "execution_count": 60,
     "metadata": {},
     "output_type": "execute_result"
    }
   ],
   "source": [
    "test['card_offer']=Y_pred\n",
    "test['card_offer']=np.where(test['card_offer']==1,True,False)\n",
    "test.head()"
   ]
  },
  {
   "cell_type": "code",
   "execution_count": 61,
   "metadata": {},
   "outputs": [],
   "source": [
    "test.to_csv('Prediction.csv',index=False)"
   ]
  },
  {
   "cell_type": "markdown",
   "metadata": {},
   "source": [
    "### -------------------------------------------------------------------END-------------------------------------------------------------------"
   ]
  }
 ],
 "metadata": {
  "kernelspec": {
   "display_name": "Python 3",
   "language": "python",
   "name": "python3"
  },
  "language_info": {
   "codemirror_mode": {
    "name": "ipython",
    "version": 3
   },
   "file_extension": ".py",
   "mimetype": "text/x-python",
   "name": "python",
   "nbconvert_exporter": "python",
   "pygments_lexer": "ipython3",
   "version": "3.7.1"
  }
 },
 "nbformat": 4,
 "nbformat_minor": 2
}
